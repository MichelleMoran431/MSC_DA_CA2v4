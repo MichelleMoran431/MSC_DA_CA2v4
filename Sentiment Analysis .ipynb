{
 "cells": [
  {
   "cell_type": "markdown",
   "id": "3940dd9d-4be2-41e0-8823-5da6082975f3",
   "metadata": {},
   "source": [
    "### Sentiment Analysis continued ....."
   ]
  },
  {
   "cell_type": "markdown",
   "id": "59aa0dbf-2c3b-44d1-908b-7c5b05715ee5",
   "metadata": {},
   "source": [
    "#### Import libraries"
   ]
  },
  {
   "cell_type": "code",
   "execution_count": 1,
   "id": "15beb76b-618a-4826-abce-bfd93279e42e",
   "metadata": {},
   "outputs": [],
   "source": [
    "import numpy as np # linear algebra\n",
    "import pandas as pd # data processing, CSV file I/O (e.g. pd.read_csv)\n",
    "import matplotlib.pyplot as plt\n",
    "%matplotlib inline\n",
    "import gensim"
   ]
  },
  {
   "cell_type": "code",
   "execution_count": 2,
   "id": "ec219598-8101-469e-8632-d4d8548dd149",
   "metadata": {},
   "outputs": [],
   "source": [
    "#pip install -U gensim"
   ]
  },
  {
   "cell_type": "code",
   "execution_count": 3,
   "id": "f878106e-b68c-4816-99b0-c68905f9371b",
   "metadata": {},
   "outputs": [],
   "source": [
    "import nltk\n",
    "from nltk.corpus import stopwords\n",
    "import re\n",
    "import joblib\n",
    "from keras.preprocessing.text import Tokenizer\n",
    "\n",
    "from keras.utils import pad_sequences\n",
    "from sklearn.preprocessing import LabelEncoder\n",
    "from keras.layers import Embedding\n",
    "from keras.models import Sequential\n",
    "from keras.layers import Dense,LSTM,Dropout\n",
    "from sklearn.metrics import confusion_matrix,accuracy_score,classification_report"
   ]
  },
  {
   "cell_type": "markdown",
   "id": "9b17ea57-302d-4f99-b6c9-3911d191ee33",
   "metadata": {},
   "source": [
    "#### Import dataset "
   ]
  },
  {
   "cell_type": "code",
   "execution_count": 4,
   "id": "e7a9d4e4-25de-47cf-9405-55652f9da300",
   "metadata": {},
   "outputs": [
    {
     "name": "stderr",
     "output_type": "stream",
     "text": [
      "b'Skipping line 1904: expected 6 fields, saw 8\\nSkipping line 2003: expected 6 fields, saw 7\\nSkipping line 4594: expected 6 fields, saw 7\\n'\n"
     ]
    }
   ],
   "source": [
    "FoodTweets = pd.read_csv(\"C:/Users/User/Documents/GitHub/MSC_DA_CA2v4/ProcessFilteredTweets.csv\", error_bad_lines=False)"
   ]
  },
  {
   "cell_type": "code",
   "execution_count": 5,
   "id": "076f3ff6-ccf9-4d21-b65f-ca032fac6f17",
   "metadata": {},
   "outputs": [
    {
     "data": {
      "text/html": [
       "<div>\n",
       "<style scoped>\n",
       "    .dataframe tbody tr th:only-of-type {\n",
       "        vertical-align: middle;\n",
       "    }\n",
       "\n",
       "    .dataframe tbody tr th {\n",
       "        vertical-align: top;\n",
       "    }\n",
       "\n",
       "    .dataframe thead th {\n",
       "        text-align: right;\n",
       "    }\n",
       "</style>\n",
       "<table border=\"1\" class=\"dataframe\">\n",
       "  <thead>\n",
       "    <tr style=\"text-align: right;\">\n",
       "      <th></th>\n",
       "      <th>column1</th>\n",
       "      <th>column2</th>\n",
       "      <th>column3</th>\n",
       "      <th>column4</th>\n",
       "      <th>column5</th>\n",
       "      <th>column6</th>\n",
       "    </tr>\n",
       "  </thead>\n",
       "  <tbody>\n",
       "    <tr>\n",
       "      <th>0</th>\n",
       "      <td>0</td>\n",
       "      <td>1.678358e+09</td>\n",
       "      <td>Sat May 02 06:26:48 PDT 2009</td>\n",
       "      <td>NO_QUERY</td>\n",
       "      <td>kconnxx</td>\n",
       "      <td>glad to know my family bought tons of gluten f...</td>\n",
       "    </tr>\n",
       "    <tr>\n",
       "      <th>1</th>\n",
       "      <td>0</td>\n",
       "      <td>1.827494e+09</td>\n",
       "      <td>Sun May 17 10:49:49 PDT 2009</td>\n",
       "      <td>NO_QUERY</td>\n",
       "      <td>MarieLuv</td>\n",
       "      <td>@pornlaw damn u on the grill when i'm in vegas...</td>\n",
       "    </tr>\n",
       "    <tr>\n",
       "      <th>2</th>\n",
       "      <td>0</td>\n",
       "      <td>1.834532e+09</td>\n",
       "      <td>Mon May 18 03:17:33 PDT 2009</td>\n",
       "      <td>NO_QUERY</td>\n",
       "      <td>angelynewolfe</td>\n",
       "      <td>tofu too healthy... searching through the cupb...</td>\n",
       "    </tr>\n",
       "    <tr>\n",
       "      <th>3</th>\n",
       "      <td>0</td>\n",
       "      <td>1.963275e+09</td>\n",
       "      <td>Fri May 29 12:28:39 PDT 2009</td>\n",
       "      <td>NO_QUERY</td>\n",
       "      <td>UlyssesAR</td>\n",
       "      <td>looking for food at home!.... nothing</td>\n",
       "    </tr>\n",
       "    <tr>\n",
       "      <th>4</th>\n",
       "      <td>0</td>\n",
       "      <td>1.976219e+09</td>\n",
       "      <td>Sat May 30 16:50:48 PDT 2009</td>\n",
       "      <td>NO_QUERY</td>\n",
       "      <td>Kelsayy237</td>\n",
       "      <td>watching something on food network with corey....</td>\n",
       "    </tr>\n",
       "  </tbody>\n",
       "</table>\n",
       "</div>"
      ],
      "text/plain": [
       "   column1       column2                       column3   column4  \\\n",
       "0        0  1.678358e+09  Sat May 02 06:26:48 PDT 2009  NO_QUERY   \n",
       "1        0  1.827494e+09  Sun May 17 10:49:49 PDT 2009  NO_QUERY   \n",
       "2        0  1.834532e+09  Mon May 18 03:17:33 PDT 2009  NO_QUERY   \n",
       "3        0  1.963275e+09  Fri May 29 12:28:39 PDT 2009  NO_QUERY   \n",
       "4        0  1.976219e+09  Sat May 30 16:50:48 PDT 2009  NO_QUERY   \n",
       "\n",
       "         column5                                            column6  \n",
       "0        kconnxx  glad to know my family bought tons of gluten f...  \n",
       "1       MarieLuv  @pornlaw damn u on the grill when i'm in vegas...  \n",
       "2  angelynewolfe  tofu too healthy... searching through the cupb...  \n",
       "3      UlyssesAR              looking for food at home!.... nothing  \n",
       "4     Kelsayy237  watching something on food network with corey....  "
      ]
     },
     "execution_count": 5,
     "metadata": {},
     "output_type": "execute_result"
    }
   ],
   "source": [
    "FoodTweets.head(5)"
   ]
  },
  {
   "cell_type": "markdown",
   "id": "087e937e-93cf-4a74-aa5a-9af07d5bc645",
   "metadata": {},
   "source": [
    "#### 1. Rename columns headings"
   ]
  },
  {
   "cell_type": "code",
   "execution_count": 6,
   "id": "9e8ca03c-4874-4ac8-937c-e993ee3c39a6",
   "metadata": {},
   "outputs": [],
   "source": [
    "FoodTweets.rename(columns = {'column1':'Sentiment', 'column2':'ids',\n",
    "                              'column3':'date','column4':'flag','column5':'user','column6':'tweet'}, inplace = True)                                           "
   ]
  },
  {
   "cell_type": "code",
   "execution_count": 7,
   "id": "11b4e62b-56b3-443c-a7c0-60abb73eded2",
   "metadata": {},
   "outputs": [
    {
     "data": {
      "text/html": [
       "<div>\n",
       "<style scoped>\n",
       "    .dataframe tbody tr th:only-of-type {\n",
       "        vertical-align: middle;\n",
       "    }\n",
       "\n",
       "    .dataframe tbody tr th {\n",
       "        vertical-align: top;\n",
       "    }\n",
       "\n",
       "    .dataframe thead th {\n",
       "        text-align: right;\n",
       "    }\n",
       "</style>\n",
       "<table border=\"1\" class=\"dataframe\">\n",
       "  <thead>\n",
       "    <tr style=\"text-align: right;\">\n",
       "      <th></th>\n",
       "      <th>Sentiment</th>\n",
       "      <th>ids</th>\n",
       "      <th>date</th>\n",
       "      <th>flag</th>\n",
       "      <th>user</th>\n",
       "      <th>tweet</th>\n",
       "    </tr>\n",
       "  </thead>\n",
       "  <tbody>\n",
       "    <tr>\n",
       "      <th>0</th>\n",
       "      <td>0</td>\n",
       "      <td>1.678358e+09</td>\n",
       "      <td>Sat May 02 06:26:48 PDT 2009</td>\n",
       "      <td>NO_QUERY</td>\n",
       "      <td>kconnxx</td>\n",
       "      <td>glad to know my family bought tons of gluten f...</td>\n",
       "    </tr>\n",
       "    <tr>\n",
       "      <th>1</th>\n",
       "      <td>0</td>\n",
       "      <td>1.827494e+09</td>\n",
       "      <td>Sun May 17 10:49:49 PDT 2009</td>\n",
       "      <td>NO_QUERY</td>\n",
       "      <td>MarieLuv</td>\n",
       "      <td>@pornlaw damn u on the grill when i'm in vegas...</td>\n",
       "    </tr>\n",
       "    <tr>\n",
       "      <th>2</th>\n",
       "      <td>0</td>\n",
       "      <td>1.834532e+09</td>\n",
       "      <td>Mon May 18 03:17:33 PDT 2009</td>\n",
       "      <td>NO_QUERY</td>\n",
       "      <td>angelynewolfe</td>\n",
       "      <td>tofu too healthy... searching through the cupb...</td>\n",
       "    </tr>\n",
       "    <tr>\n",
       "      <th>3</th>\n",
       "      <td>0</td>\n",
       "      <td>1.963275e+09</td>\n",
       "      <td>Fri May 29 12:28:39 PDT 2009</td>\n",
       "      <td>NO_QUERY</td>\n",
       "      <td>UlyssesAR</td>\n",
       "      <td>looking for food at home!.... nothing</td>\n",
       "    </tr>\n",
       "    <tr>\n",
       "      <th>4</th>\n",
       "      <td>0</td>\n",
       "      <td>1.976219e+09</td>\n",
       "      <td>Sat May 30 16:50:48 PDT 2009</td>\n",
       "      <td>NO_QUERY</td>\n",
       "      <td>Kelsayy237</td>\n",
       "      <td>watching something on food network with corey....</td>\n",
       "    </tr>\n",
       "  </tbody>\n",
       "</table>\n",
       "</div>"
      ],
      "text/plain": [
       "   Sentiment           ids                          date      flag  \\\n",
       "0          0  1.678358e+09  Sat May 02 06:26:48 PDT 2009  NO_QUERY   \n",
       "1          0  1.827494e+09  Sun May 17 10:49:49 PDT 2009  NO_QUERY   \n",
       "2          0  1.834532e+09  Mon May 18 03:17:33 PDT 2009  NO_QUERY   \n",
       "3          0  1.963275e+09  Fri May 29 12:28:39 PDT 2009  NO_QUERY   \n",
       "4          0  1.976219e+09  Sat May 30 16:50:48 PDT 2009  NO_QUERY   \n",
       "\n",
       "            user                                              tweet  \n",
       "0        kconnxx  glad to know my family bought tons of gluten f...  \n",
       "1       MarieLuv  @pornlaw damn u on the grill when i'm in vegas...  \n",
       "2  angelynewolfe  tofu too healthy... searching through the cupb...  \n",
       "3      UlyssesAR              looking for food at home!.... nothing  \n",
       "4     Kelsayy237  watching something on food network with corey....  "
      ]
     },
     "execution_count": 7,
     "metadata": {},
     "output_type": "execute_result"
    }
   ],
   "source": [
    "FoodTweets.head(5)"
   ]
  },
  {
   "cell_type": "code",
   "execution_count": 9,
   "id": "7c6be061-bdbf-4a82-a045-f9f666b70796",
   "metadata": {},
   "outputs": [],
   "source": [
    "FoodTweets['Polarity'] = FoodTweets.loc[:, 'Sentiment']"
   ]
  },
  {
   "cell_type": "markdown",
   "id": "625317b7-64c9-4fc5-910a-5c96aa0f3df3",
   "metadata": {},
   "source": [
    "### 2. Removing the unnessary columns"
   ]
  },
  {
   "cell_type": "code",
   "execution_count": 97,
   "id": "7fb72b44-c2b2-4a89-b47b-ba9f4ca114e9",
   "metadata": {},
   "outputs": [
    {
     "data": {
      "text/html": [
       "<div>\n",
       "<style scoped>\n",
       "    .dataframe tbody tr th:only-of-type {\n",
       "        vertical-align: middle;\n",
       "    }\n",
       "\n",
       "    .dataframe tbody tr th {\n",
       "        vertical-align: top;\n",
       "    }\n",
       "\n",
       "    .dataframe thead th {\n",
       "        text-align: right;\n",
       "    }\n",
       "</style>\n",
       "<table border=\"1\" class=\"dataframe\">\n",
       "  <thead>\n",
       "    <tr style=\"text-align: right;\">\n",
       "      <th></th>\n",
       "      <th>Sentiment</th>\n",
       "      <th>tweet</th>\n",
       "      <th>date</th>\n",
       "      <th>Polarity</th>\n",
       "    </tr>\n",
       "  </thead>\n",
       "  <tbody>\n",
       "    <tr>\n",
       "      <th>8423</th>\n",
       "      <td>4</td>\n",
       "      <td>need life good friends amp good food big dose ...</td>\n",
       "      <td>Sat Jun 06 01:35:23 PDT 2009</td>\n",
       "      <td>Positive</td>\n",
       "    </tr>\n",
       "    <tr>\n",
       "      <th>8424</th>\n",
       "      <td>4</td>\n",
       "      <td>passing wanna go good food</td>\n",
       "      <td>Sat Jun 06 23:05:27 PDT 2009</td>\n",
       "      <td>Positive</td>\n",
       "    </tr>\n",
       "    <tr>\n",
       "      <th>8425</th>\n",
       "      <td>4</td>\n",
       "      <td>want asian food make coming</td>\n",
       "      <td>Sun Jun 07 12:50:31 PDT 2009</td>\n",
       "      <td>Positive</td>\n",
       "    </tr>\n",
       "    <tr>\n",
       "      <th>8426</th>\n",
       "      <td>4</td>\n",
       "      <td>obsession cookbooks combined food network lethal</td>\n",
       "      <td>Sun Jun 07 18:54:00 PDT 2009</td>\n",
       "      <td>Positive</td>\n",
       "    </tr>\n",
       "    <tr>\n",
       "      <th>8427</th>\n",
       "      <td>4</td>\n",
       "      <td>made big dent research finish review rewarding...</td>\n",
       "      <td>Tue Jun 16 06:28:30 PDT 2009</td>\n",
       "      <td>Positive</td>\n",
       "    </tr>\n",
       "  </tbody>\n",
       "</table>\n",
       "</div>"
      ],
      "text/plain": [
       "      Sentiment                                              tweet  \\\n",
       "8423          4  need life good friends amp good food big dose ...   \n",
       "8424          4                         passing wanna go good food   \n",
       "8425          4                        want asian food make coming   \n",
       "8426          4   obsession cookbooks combined food network lethal   \n",
       "8427          4  made big dent research finish review rewarding...   \n",
       "\n",
       "                              date  Polarity  \n",
       "8423  Sat Jun 06 01:35:23 PDT 2009  Positive  \n",
       "8424  Sat Jun 06 23:05:27 PDT 2009  Positive  \n",
       "8425  Sun Jun 07 12:50:31 PDT 2009  Positive  \n",
       "8426  Sun Jun 07 18:54:00 PDT 2009  Positive  \n",
       "8427  Tue Jun 16 06:28:30 PDT 2009  Positive  "
      ]
     },
     "execution_count": 97,
     "metadata": {},
     "output_type": "execute_result"
    }
   ],
   "source": [
    "FoodTweetsa = FoodTweets [['Sentiment','tweet','date','Polarity']]\n",
    "FoodTweetsa.tail(5)"
   ]
  },
  {
   "cell_type": "markdown",
   "id": "a96cd63d-a714-465a-8205-108640ceb8cc",
   "metadata": {},
   "source": [
    "### 3. Updating the Polarity column with negative , neutral and positive words"
   ]
  },
  {
   "cell_type": "code",
   "execution_count": 65,
   "id": "1bdaf090-ae30-42f8-b593-52ab1aa69b47",
   "metadata": {},
   "outputs": [
    {
     "name": "stderr",
     "output_type": "stream",
     "text": [
      "C:\\Users\\User\\anaconda3\\lib\\site-packages\\pandas\\core\\series.py:4509: SettingWithCopyWarning: \n",
      "A value is trying to be set on a copy of a slice from a DataFrame\n",
      "\n",
      "See the caveats in the documentation: https://pandas.pydata.org/pandas-docs/stable/user_guide/indexing.html#returning-a-view-versus-a-copy\n",
      "  return super().replace(\n"
     ]
    }
   ],
   "source": [
    "FoodTweetsa.Polarity.replace({0:'Negative',4:'Positive'},inplace=True)"
   ]
  },
  {
   "cell_type": "code",
   "execution_count": 66,
   "id": "db4756bc-66d2-4956-a94a-59163ae99564",
   "metadata": {},
   "outputs": [
    {
     "data": {
      "text/html": [
       "<div>\n",
       "<style scoped>\n",
       "    .dataframe tbody tr th:only-of-type {\n",
       "        vertical-align: middle;\n",
       "    }\n",
       "\n",
       "    .dataframe tbody tr th {\n",
       "        vertical-align: top;\n",
       "    }\n",
       "\n",
       "    .dataframe thead th {\n",
       "        text-align: right;\n",
       "    }\n",
       "</style>\n",
       "<table border=\"1\" class=\"dataframe\">\n",
       "  <thead>\n",
       "    <tr style=\"text-align: right;\">\n",
       "      <th></th>\n",
       "      <th>Sentiment</th>\n",
       "      <th>tweet</th>\n",
       "      <th>date</th>\n",
       "      <th>Polarity</th>\n",
       "    </tr>\n",
       "  </thead>\n",
       "  <tbody>\n",
       "    <tr>\n",
       "      <th>0</th>\n",
       "      <td>0</td>\n",
       "      <td>glad know family bought tons gluten food birth...</td>\n",
       "      <td>Sat May 02 06:26:48 PDT 2009</td>\n",
       "      <td>Negative</td>\n",
       "    </tr>\n",
       "    <tr>\n",
       "      <th>1</th>\n",
       "      <td>0</td>\n",
       "      <td>damn u grill vegas luv grilled food</td>\n",
       "      <td>Sun May 17 10:49:49 PDT 2009</td>\n",
       "      <td>Negative</td>\n",
       "    </tr>\n",
       "    <tr>\n",
       "      <th>2</th>\n",
       "      <td>0</td>\n",
       "      <td>tofu healthy searching cupboards dirty food fi...</td>\n",
       "      <td>Mon May 18 03:17:33 PDT 2009</td>\n",
       "      <td>Negative</td>\n",
       "    </tr>\n",
       "    <tr>\n",
       "      <th>3</th>\n",
       "      <td>0</td>\n",
       "      <td>looking food home nothing</td>\n",
       "      <td>Fri May 29 12:28:39 PDT 2009</td>\n",
       "      <td>Negative</td>\n",
       "    </tr>\n",
       "    <tr>\n",
       "      <th>4</th>\n",
       "      <td>0</td>\n",
       "      <td>watching something food network corey whatever...</td>\n",
       "      <td>Sat May 30 16:50:48 PDT 2009</td>\n",
       "      <td>Negative</td>\n",
       "    </tr>\n",
       "  </tbody>\n",
       "</table>\n",
       "</div>"
      ],
      "text/plain": [
       "   Sentiment                                              tweet  \\\n",
       "0          0  glad know family bought tons gluten food birth...   \n",
       "1          0                damn u grill vegas luv grilled food   \n",
       "2          0  tofu healthy searching cupboards dirty food fi...   \n",
       "3          0                          looking food home nothing   \n",
       "4          0  watching something food network corey whatever...   \n",
       "\n",
       "                           date  Polarity  \n",
       "0  Sat May 02 06:26:48 PDT 2009  Negative  \n",
       "1  Sun May 17 10:49:49 PDT 2009  Negative  \n",
       "2  Mon May 18 03:17:33 PDT 2009  Negative  \n",
       "3  Fri May 29 12:28:39 PDT 2009  Negative  \n",
       "4  Sat May 30 16:50:48 PDT 2009  Negative  "
      ]
     },
     "execution_count": 66,
     "metadata": {},
     "output_type": "execute_result"
    }
   ],
   "source": [
    "FoodTweetsa.head(5)"
   ]
  },
  {
   "cell_type": "code",
   "execution_count": 104,
   "id": "ff35d0aa-6bb5-48f4-ad25-2cfd7a39092a",
   "metadata": {},
   "outputs": [],
   "source": [
    "positive_count = FoodTweetsa[FoodTweetsa[\"Polarity\"]==\"Positive\"].shape[0]\n",
    "negative_count = FoodTweetsa[FoodTweetsa[\"Polarity\"]==\"Negative\"].shape[0]"
   ]
  },
  {
   "cell_type": "code",
   "execution_count": null,
   "id": "5eb148b9-a9e3-417f-8fc4-414c7f8b6cb4",
   "metadata": {},
   "outputs": [],
   "source": [
    "total_count = len(FoodTweetsa)\n",
    "positive_proportion = positive_count / total_count\n",
    "negative_proportion = negative_count / total_count"
   ]
  },
  {
   "cell_type": "code",
   "execution_count": 106,
   "id": "d15bbf9f-046d-422a-9f46-ec3f2aba7284",
   "metadata": {},
   "outputs": [
    {
     "data": {
      "image/png": "[encoded data removed]",
      "text/plain": [
       "<Figure size 432x288 with 1 Axes>"
      ]
     },
     "metadata": {
      "needs_background": "light"
     },
     "output_type": "display_data"
    }
   ],
   "source": [
    "labels = [\"Postitive\",\"Negative\"]\n",
    "proportions = [positive_proportion, negative_proportion]\n",
    "plt.bar(labels,proportions)\n",
    "plt.xlabel(\"Sentiment\")\n",
    "plt.ylabel(\"Proportion\")\n",
    "plt.title(\"Proptions of Positive and Negative Sentiments\")\n",
    "plt.show()"
   ]
  },
  {
   "cell_type": "code",
   "execution_count": null,
   "id": "951c950e-4f42-4da3-a275-faaaeaa6bd50",
   "metadata": {},
   "outputs": [],
   "source": []
  },
  {
   "cell_type": "code",
   "execution_count": 67,
   "id": "debc8dd4-3829-4295-9235-a79226ff7686",
   "metadata": {},
   "outputs": [],
   "source": [
    "FoodTweetsa.to_csv('FoodTweets.csv')"
   ]
  },
  {
   "cell_type": "code",
   "execution_count": null,
   "id": "bf0c5918-00f9-4559-9f23-8fd8e3d521c4",
   "metadata": {},
   "outputs": [],
   "source": [
    "### 4. Removing stopwords"
   ]
  },
  {
   "cell_type": "code",
   "execution_count": 69,
   "id": "b7415bf0-75f0-4900-8f15-a257c045dbf5",
   "metadata": {},
   "outputs": [],
   "source": [
    "stop_words=set(stopwords.words('english'))\n",
    "#stop_words.remove('not')"
   ]
  },
  {
   "cell_type": "code",
   "execution_count": null,
   "id": "cecfe25f-5489-433c-8831-c9c262bd8a40",
   "metadata": {},
   "outputs": [],
   "source": [
    "### 5. text preprocessing"
   ]
  },
  {
   "cell_type": "code",
   "execution_count": 26,
   "id": "26e8f9b8-00d0-4d40-9984-30d01a54aee2",
   "metadata": {},
   "outputs": [],
   "source": [
    "corpus=[]\n",
    "for i in range(0,len(FoodTweets)):\n",
    "    review=re.sub('@\\S+|https?:\\S+|http?:\\S|[^A-Za-z0-9]+',' ',FoodTweetsa['tweet'][i])\n",
    "    review=review.lower()\n",
    "    review=review.split()\n",
    "    review=[word for word in review if not word in stop_words]\n",
    "    review=' '.join(review)\n",
    "    corpus.append(review)"
   ]
  },
  {
   "cell_type": "code",
   "execution_count": 27,
   "id": "aaa83c98-3571-44fa-b9fc-ee2ee265bde7",
   "metadata": {},
   "outputs": [
    {
     "name": "stderr",
     "output_type": "stream",
     "text": [
      "C:\\Users\\User\\anaconda3\\lib\\site-packages\\pandas\\core\\generic.py:5494: SettingWithCopyWarning: \n",
      "A value is trying to be set on a copy of a slice from a DataFrame.\n",
      "Try using .loc[row_indexer,col_indexer] = value instead\n",
      "\n",
      "See the caveats in the documentation: https://pandas.pydata.org/pandas-docs/stable/user_guide/indexing.html#returning-a-view-versus-a-copy\n",
      "  self[name] = value\n"
     ]
    }
   ],
   "source": [
    "FoodTweetsa.tweet = corpus"
   ]
  },
  {
   "cell_type": "markdown",
   "id": "81e22de8-53b1-4e60-9aa8-8bd780e7e286",
   "metadata": {},
   "source": [
    "### 6. Creating the Training and testing datasets"
   ]
  },
  {
   "cell_type": "code",
   "execution_count": 28,
   "id": "06fb0729-ca29-4189-b44f-951390a07d60",
   "metadata": {},
   "outputs": [],
   "source": [
    "from sklearn.model_selection import train_test_split\n",
    "train_df,test_df=train_test_split(FoodTweetsa,test_size=0.20,random_state=123)"
   ]
  },
  {
   "cell_type": "code",
   "execution_count": 29,
   "id": "a4113025-ba53-4611-bb9d-9637c7b35169",
   "metadata": {},
   "outputs": [
    {
     "data": {
      "text/html": [
       "<div>\n",
       "<style scoped>\n",
       "    .dataframe tbody tr th:only-of-type {\n",
       "        vertical-align: middle;\n",
       "    }\n",
       "\n",
       "    .dataframe tbody tr th {\n",
       "        vertical-align: top;\n",
       "    }\n",
       "\n",
       "    .dataframe thead th {\n",
       "        text-align: right;\n",
       "    }\n",
       "</style>\n",
       "<table border=\"1\" class=\"dataframe\">\n",
       "  <thead>\n",
       "    <tr style=\"text-align: right;\">\n",
       "      <th></th>\n",
       "      <th>Sentiment</th>\n",
       "      <th>tweet</th>\n",
       "      <th>date</th>\n",
       "      <th>Polarity</th>\n",
       "    </tr>\n",
       "  </thead>\n",
       "  <tbody>\n",
       "    <tr>\n",
       "      <th>1369</th>\n",
       "      <td>0</td>\n",
       "      <td>weehee wait get home though food u lookin gooo...</td>\n",
       "      <td>Wed Jun 03 09:08:47 PDT 2009</td>\n",
       "      <td>Negative</td>\n",
       "    </tr>\n",
       "    <tr>\n",
       "      <th>1172</th>\n",
       "      <td>0</td>\n",
       "      <td>well not right low food budget money</td>\n",
       "      <td>Sat Jun 06 19:15:19 PDT 2009</td>\n",
       "      <td>Negative</td>\n",
       "    </tr>\n",
       "    <tr>\n",
       "      <th>3848</th>\n",
       "      <td>0</td>\n",
       "      <td>keep eating junk food</td>\n",
       "      <td>Mon Jun 15 21:08:38 PDT 2009</td>\n",
       "      <td>Negative</td>\n",
       "    </tr>\n",
       "    <tr>\n",
       "      <th>2686</th>\n",
       "      <td>0</td>\n",
       "      <td>never eating applebees food unsatisfying stoma...</td>\n",
       "      <td>Wed Jun 17 21:12:03 PDT 2009</td>\n",
       "      <td>Negative</td>\n",
       "    </tr>\n",
       "    <tr>\n",
       "      <th>7006</th>\n",
       "      <td>4</td>\n",
       "      <td>chillin family getting tacos ochoa best food w...</td>\n",
       "      <td>Sat May 09 19:05:41 PDT 2009</td>\n",
       "      <td>Positive</td>\n",
       "    </tr>\n",
       "  </tbody>\n",
       "</table>\n",
       "</div>"
      ],
      "text/plain": [
       "      Sentiment                                              tweet  \\\n",
       "1369          0  weehee wait get home though food u lookin gooo...   \n",
       "1172          0               well not right low food budget money   \n",
       "3848          0                              keep eating junk food   \n",
       "2686          0  never eating applebees food unsatisfying stoma...   \n",
       "7006          4  chillin family getting tacos ochoa best food w...   \n",
       "\n",
       "                              date  Polarity  \n",
       "1369  Wed Jun 03 09:08:47 PDT 2009  Negative  \n",
       "1172  Sat Jun 06 19:15:19 PDT 2009  Negative  \n",
       "3848  Mon Jun 15 21:08:38 PDT 2009  Negative  \n",
       "2686  Wed Jun 17 21:12:03 PDT 2009  Negative  \n",
       "7006  Sat May 09 19:05:41 PDT 2009  Positive  "
      ]
     },
     "execution_count": 29,
     "metadata": {},
     "output_type": "execute_result"
    }
   ],
   "source": [
    "train_df.head()"
   ]
  },
  {
   "cell_type": "code",
   "execution_count": 30,
   "id": "b64a786f-b9f7-4677-9da0-6b3a7e3a2972",
   "metadata": {},
   "outputs": [
    {
     "data": {
      "text/html": [
       "<div>\n",
       "<style scoped>\n",
       "    .dataframe tbody tr th:only-of-type {\n",
       "        vertical-align: middle;\n",
       "    }\n",
       "\n",
       "    .dataframe tbody tr th {\n",
       "        vertical-align: top;\n",
       "    }\n",
       "\n",
       "    .dataframe thead th {\n",
       "        text-align: right;\n",
       "    }\n",
       "</style>\n",
       "<table border=\"1\" class=\"dataframe\">\n",
       "  <thead>\n",
       "    <tr style=\"text-align: right;\">\n",
       "      <th></th>\n",
       "      <th>Sentiment</th>\n",
       "      <th>tweet</th>\n",
       "      <th>date</th>\n",
       "      <th>Polarity</th>\n",
       "    </tr>\n",
       "  </thead>\n",
       "  <tbody>\n",
       "    <tr>\n",
       "      <th>697</th>\n",
       "      <td>0</td>\n",
       "      <td>know gotta get food get work</td>\n",
       "      <td>Sun May 03 17:19:10 PDT 2009</td>\n",
       "      <td>Negative</td>\n",
       "    </tr>\n",
       "    <tr>\n",
       "      <th>6875</th>\n",
       "      <td>4</td>\n",
       "      <td>currently looking around food got drunken munc...</td>\n",
       "      <td>Sun Jun 07 16:18:54 PDT 2009</td>\n",
       "      <td>Positive</td>\n",
       "    </tr>\n",
       "    <tr>\n",
       "      <th>3508</th>\n",
       "      <td>0</td>\n",
       "      <td>problem away home 4 weeks amp returning sub ze...</td>\n",
       "      <td>Fri Jun 19 17:37:53 PDT 2009</td>\n",
       "      <td>Negative</td>\n",
       "    </tr>\n",
       "    <tr>\n",
       "      <th>7386</th>\n",
       "      <td>4</td>\n",
       "      <td>thanks putting us today foodbuzz top 9 guess l...</td>\n",
       "      <td>Fri Jun 05 08:56:19 PDT 2009</td>\n",
       "      <td>Positive</td>\n",
       "    </tr>\n",
       "    <tr>\n",
       "      <th>798</th>\n",
       "      <td>0</td>\n",
       "      <td>thinking lunch soon food</td>\n",
       "      <td>Fri May 29 08:07:14 PDT 2009</td>\n",
       "      <td>Negative</td>\n",
       "    </tr>\n",
       "  </tbody>\n",
       "</table>\n",
       "</div>"
      ],
      "text/plain": [
       "      Sentiment                                              tweet  \\\n",
       "697           0                       know gotta get food get work   \n",
       "6875          4  currently looking around food got drunken munc...   \n",
       "3508          0  problem away home 4 weeks amp returning sub ze...   \n",
       "7386          4  thanks putting us today foodbuzz top 9 guess l...   \n",
       "798           0                           thinking lunch soon food   \n",
       "\n",
       "                              date  Polarity  \n",
       "697   Sun May 03 17:19:10 PDT 2009  Negative  \n",
       "6875  Sun Jun 07 16:18:54 PDT 2009  Positive  \n",
       "3508  Fri Jun 19 17:37:53 PDT 2009  Negative  \n",
       "7386  Fri Jun 05 08:56:19 PDT 2009  Positive  \n",
       "798   Fri May 29 08:07:14 PDT 2009  Negative  "
      ]
     },
     "execution_count": 30,
     "metadata": {},
     "output_type": "execute_result"
    }
   ],
   "source": [
    "test_df.head()"
   ]
  },
  {
   "cell_type": "code",
   "execution_count": null,
   "id": "8da5c9cd-1e7a-43fc-ace6-ef713eeddf3b",
   "metadata": {},
   "outputs": [],
   "source": [
    "### 7. Word2Vec(w2v) "
   ]
  },
  {
   "cell_type": "code",
   "execution_count": 72,
   "id": "3a58013c-f5b1-4ca0-b11e-ac8fd0ac30c6",
   "metadata": {},
   "outputs": [],
   "source": [
    "documents = [text.split() for text in train_df.tweet]"
   ]
  },
  {
   "cell_type": "code",
   "execution_count": 73,
   "id": "0d5d088b-5e62-417b-a1c8-d6ce1d65105a",
   "metadata": {},
   "outputs": [],
   "source": [
    "w2v_model = gensim.models.word2vec.Word2Vec(vector_size=300, \n",
    "                                            window=7, \n",
    "                                            min_count=10, \n",
    "                                            workers=8)"
   ]
  },
  {
   "cell_type": "code",
   "execution_count": 33,
   "id": "31376a04-29b2-4975-bde9-dda9ce09bd87",
   "metadata": {},
   "outputs": [],
   "source": [
    "w2v_model.build_vocab(documents)"
   ]
  },
  {
   "cell_type": "code",
   "execution_count": 34,
   "id": "20c5ebc9-32bd-41d1-ad76-3d91a0933ed2",
   "metadata": {},
   "outputs": [
    {
     "name": "stdout",
     "output_type": "stream",
     "text": [
      "922\n"
     ]
    }
   ],
   "source": [
    "vocab_len = len(w2v_model.wv)\n",
    "print(vocab_len)"
   ]
  },
  {
   "cell_type": "code",
   "execution_count": null,
   "id": "fb2622a7-eaf9-413a-871d-80ec97d2a783",
   "metadata": {},
   "outputs": [],
   "source": [
    "#words = w2v_model.wv.vocab.keys()\n",
    "#vocab_size = len(words)\n",
    "#print(\"Vocab size\", vocab_size)"
   ]
  },
  {
   "cell_type": "code",
   "execution_count": 35,
   "id": "0555aa64-cdd1-4fec-ac87-aef5794f8bf2",
   "metadata": {},
   "outputs": [
    {
     "data": {
      "text/plain": [
       "(1027133, 1926090)"
      ]
     },
     "execution_count": 35,
     "metadata": {},
     "output_type": "execute_result"
    }
   ],
   "source": [
    "w2v_model.train(documents, total_examples=len(documents), epochs=30)"
   ]
  },
  {
   "cell_type": "code",
   "execution_count": 71,
   "id": "0b96cc5c-2f2f-4abe-bb1b-6526acb5274b",
   "metadata": {},
   "outputs": [
    {
     "data": {
      "text/plain": [
       "[('cute', 0.7987727522850037),\n",
       " ('friends', 0.7987392544746399),\n",
       " ('fun', 0.7793230414390564),\n",
       " ('times', 0.7754678726196289),\n",
       " ('music', 0.7710794806480408),\n",
       " ('enjoying', 0.7469136714935303),\n",
       " ('great', 0.7406225204467773),\n",
       " ('evening', 0.7317299246788025),\n",
       " ('beer', 0.7236676812171936),\n",
       " ('sounds', 0.7226242423057556)]"
      ]
     },
     "execution_count": 71,
     "metadata": {},
     "output_type": "execute_result"
    }
   ],
   "source": [
    "w2v_model.wv.most_similar(\"good\")"
   ]
  },
  {
   "cell_type": "code",
   "execution_count": 37,
   "id": "28fd0cd8-14c6-4e75-8bff-96a79bf34030",
   "metadata": {},
   "outputs": [
    {
     "data": {
      "text/plain": [
       "[('damn', 0.905198872089386),\n",
       " ('wanted', 0.8704646825790405),\n",
       " ('ugh', 0.8552910089492798),\n",
       " ('mouth', 0.8547067046165466),\n",
       " ('dont', 0.8532373309135437),\n",
       " ('something', 0.8378660678863525),\n",
       " ('cat', 0.830051839351654),\n",
       " ('hell', 0.823375940322876),\n",
       " ('wont', 0.8110189437866211),\n",
       " ('lose', 0.8107415437698364)]"
      ]
     },
     "execution_count": 37,
     "metadata": {},
     "output_type": "execute_result"
    }
   ],
   "source": [
    "w2v_model.wv.most_similar(\"hate\")"
   ]
  },
  {
   "cell_type": "code",
   "execution_count": 38,
   "id": "69e5255b-bed8-4fb7-ac2d-5bce7549285e",
   "metadata": {},
   "outputs": [
    {
     "data": {
      "text/plain": [
       "[('awesome', 0.9323292374610901),\n",
       " ('lovely', 0.9238523244857788),\n",
       " ('weather', 0.9228271245956421),\n",
       " ('music', 0.9082023501396179),\n",
       " ('beer', 0.8900119662284851),\n",
       " ('company', 0.8812015056610107),\n",
       " ('evening', 0.8740768432617188),\n",
       " ('friends', 0.8677129745483398),\n",
       " ('festival', 0.8534228801727295),\n",
       " ('beautiful', 0.843389093875885)]"
      ]
     },
     "execution_count": 38,
     "metadata": {},
     "output_type": "execute_result"
    }
   ],
   "source": [
    "w2v_model.wv.most_similar(\"great\")"
   ]
  },
  {
   "cell_type": "markdown",
   "id": "b077ff77-ff23-45e6-b816-d34965d07ff7",
   "metadata": {},
   "source": [
    "### 8. Tokenisation"
   ]
  },
  {
   "cell_type": "code",
   "execution_count": 39,
   "id": "a390422f-960e-4c4e-8459-bc64c7b4a19c",
   "metadata": {},
   "outputs": [],
   "source": [
    "tokenizer = Tokenizer()\n",
    "tokenizer.fit_on_texts(train_df.tweet)"
   ]
  },
  {
   "cell_type": "code",
   "execution_count": 74,
   "id": "3710256f-fd56-4116-a171-22b6d027f473",
   "metadata": {},
   "outputs": [],
   "source": [
    "tokenizer.word_index"
   ]
  },
  {
   "cell_type": "code",
   "execution_count": 42,
   "id": "9fb345ac-24ef-4cc3-b3fb-f620ee120688",
   "metadata": {},
   "outputs": [
    {
     "data": {
      "text/plain": [
       "11132"
      ]
     },
     "execution_count": 42,
     "metadata": {},
     "output_type": "execute_result"
    }
   ],
   "source": [
    "vocab_size=len(tokenizer.word_index)+1\n",
    "vocab_size"
   ]
  },
  {
   "cell_type": "code",
   "execution_count": 43,
   "id": "04f7c533-2d7e-4369-a681-e8070419547f",
   "metadata": {},
   "outputs": [
    {
     "data": {
      "text/plain": [
       "array([[    0,     0,     0, ...,  4361,   207,   650],\n",
       "       [    0,     0,     0, ...,     1,  1291,   160],\n",
       "       [    0,     0,     0, ...,    19,    60,     1],\n",
       "       ...,\n",
       "       [    0,     0,     0, ...,   599,    37,  2634],\n",
       "       [    0,     0,     0, ..., 11131,     1,   223],\n",
       "       [    0,     0,     0, ...,    88,  3998,   237]])"
      ]
     },
     "execution_count": 43,
     "metadata": {},
     "output_type": "execute_result"
    }
   ],
   "source": [
    "X_train = pad_sequences(tokenizer.texts_to_sequences(train_df.tweet), maxlen=300)\n",
    "X_train"
   ]
  },
  {
   "cell_type": "code",
   "execution_count": 44,
   "id": "4daab9cb-c3c8-48e9-bc8d-cc2e0decc169",
   "metadata": {},
   "outputs": [
    {
     "data": {
      "text/plain": [
       "array([[    0,     0,     0, ...,     1,     4,    28],\n",
       "       [    0,     0,     0, ...,    37,    25,   660],\n",
       "       [    0,     0,     0, ...,     1,    48,   635],\n",
       "       ...,\n",
       "       [    0,     0,     0, ...,   139, 10516,  2005],\n",
       "       [    0,     0,     0, ...,  5907,  1521,  1030],\n",
       "       [    0,     0,     0, ...,    86,   117,     1]])"
      ]
     },
     "execution_count": 44,
     "metadata": {},
     "output_type": "execute_result"
    }
   ],
   "source": [
    "X_test = pad_sequences(tokenizer.texts_to_sequences(test_df.tweet), maxlen=300)\n",
    "X_test"
   ]
  },
  {
   "cell_type": "code",
   "execution_count": 50,
   "id": "b2a2370b-a4a7-41c3-939a-9c619bc89481",
   "metadata": {},
   "outputs": [
    {
     "data": {
      "text/plain": [
       "1369    0\n",
       "1172    0\n",
       "3848    0\n",
       "2686    0\n",
       "7006    4\n",
       "Name: Sentiment, dtype: int64"
      ]
     },
     "execution_count": 50,
     "metadata": {},
     "output_type": "execute_result"
    }
   ],
   "source": [
    "y_train=train_df.Sentiment\n",
    "y_train.head()"
   ]
  },
  {
   "cell_type": "code",
   "execution_count": 51,
   "id": "e7ad6d82-be62-4385-92b1-4de7387ff69f",
   "metadata": {},
   "outputs": [
    {
     "data": {
      "text/plain": [
       "697     0\n",
       "6875    4\n",
       "3508    0\n",
       "7386    4\n",
       "798     0\n",
       "Name: Sentiment, dtype: int64"
      ]
     },
     "execution_count": 51,
     "metadata": {},
     "output_type": "execute_result"
    }
   ],
   "source": [
    "y_test=test_df.Sentiment\n",
    "y_test.head()"
   ]
  },
  {
   "cell_type": "code",
   "execution_count": 52,
   "id": "5cf533b6-79f3-4aca-a37d-994834746fec",
   "metadata": {},
   "outputs": [],
   "source": [
    "labelencoder = LabelEncoder()\n",
    "y_train = labelencoder.fit_transform(y_train)\n",
    "y_test=labelencoder.fit_transform(y_test)"
   ]
  },
  {
   "cell_type": "code",
   "execution_count": null,
   "id": "2fe20794-5bf0-40d9-8bdd-f8f64bcd16d8",
   "metadata": {},
   "outputs": [],
   "source": [
    "y_train.shape"
   ]
  },
  {
   "cell_type": "code",
   "execution_count": null,
   "id": "70ba2f8f-a6cf-41f0-8f91-128323bd6f4c",
   "metadata": {},
   "outputs": [],
   "source": [
    "y_test.shape"
   ]
  },
  {
   "cell_type": "code",
   "execution_count": 53,
   "id": "84e9578e-4bcf-4f04-bdc6-ae1e23d590f4",
   "metadata": {},
   "outputs": [
    {
     "name": "stdout",
     "output_type": "stream",
     "text": [
      "(11132, 300)\n"
     ]
    }
   ],
   "source": [
    "embedding_matrix = np.zeros((vocab_size, 300))\n",
    "for word, i in tokenizer.word_index.items():\n",
    "  if word in w2v_model.wv:\n",
    "    embedding_matrix[i] = w2v_model.wv[word]\n",
    "print(embedding_matrix.shape)"
   ]
  },
  {
   "cell_type": "code",
   "execution_count": 54,
   "id": "269e5f68-46a9-44aa-8327-8ebbe24ef1d0",
   "metadata": {},
   "outputs": [],
   "source": [
    "embedding_layer = Embedding(vocab_size, 300, weights=[embedding_matrix], input_length=300, trainable=False)"
   ]
  },
  {
   "cell_type": "code",
   "execution_count": 107,
   "id": "784a1784-da9f-4305-b36d-879f9c7d5fed",
   "metadata": {},
   "outputs": [
    {
     "name": "stdout",
     "output_type": "stream",
     "text": [
      "Model: \"sequential_1\"\n",
      "_________________________________________________________________\n",
      " Layer (type)                Output Shape              Param #   \n",
      "=================================================================\n",
      " embedding (Embedding)       (None, 300, 300)          3339600   \n",
      "                                                                 \n",
      " dropout_1 (Dropout)         (None, 300, 300)          0         \n",
      "                                                                 \n",
      " lstm_1 (LSTM)               (None, 128)               219648    \n",
      "                                                                 \n",
      " dense_1 (Dense)             (None, 1)                 129       \n",
      "                                                                 \n",
      "=================================================================\n",
      "Total params: 3,559,377\n",
      "Trainable params: 219,777\n",
      "Non-trainable params: 3,339,600\n",
      "_________________________________________________________________\n"
     ]
    }
   ],
   "source": [
    "model = Sequential()\n",
    "model.add(embedding_layer)\n",
    "model.add(Dropout(0.5))\n",
    "model.add(LSTM(128, dropout=0.2, recurrent_dropout=0.2))\n",
    "model.add(Dense(1, activation='sigmoid'))\n",
    "model.summary()"
   ]
  },
  {
   "cell_type": "code",
   "execution_count": 59,
   "id": "1c0a7cd2-c59f-4d2b-96b3-40027cbcc30b",
   "metadata": {},
   "outputs": [],
   "source": [
    "model.compile(loss='binary_crossentropy',\n",
    "              optimizer=\"adam\",\n",
    "              metrics=['accuracy'])"
   ]
  },
  {
   "cell_type": "code",
   "execution_count": 60,
   "id": "60965972-15c5-4e1f-91c7-2d9f46759f90",
   "metadata": {},
   "outputs": [
    {
     "name": "stdout",
     "output_type": "stream",
     "text": [
      "Epoch 1/15\n",
      "6/6 [==============================] - 499s 83s/step - loss: 0.6646 - accuracy: 0.6077 - val_loss: 0.6300 - val_accuracy: 0.6237\n",
      "Epoch 2/15\n",
      "6/6 [==============================] - 158s 27s/step - loss: 0.6255 - accuracy: 0.6545 - val_loss: 0.6254 - val_accuracy: 0.6519\n",
      "Epoch 3/15\n",
      "6/6 [==============================] - 152s 25s/step - loss: 0.6180 - accuracy: 0.6656 - val_loss: 0.6133 - val_accuracy: 0.6474\n",
      "Epoch 4/15\n",
      "6/6 [==============================] - 153s 25s/step - loss: 0.6086 - accuracy: 0.6740 - val_loss: 0.6082 - val_accuracy: 0.6430\n",
      "Epoch 5/15\n",
      "6/6 [==============================] - 215s 38s/step - loss: 0.6089 - accuracy: 0.6707 - val_loss: 0.6066 - val_accuracy: 0.6563\n",
      "Epoch 6/15\n",
      "6/6 [==============================] - 376s 63s/step - loss: 0.6023 - accuracy: 0.6792 - val_loss: 0.6066 - val_accuracy: 0.6681\n",
      "Epoch 7/15\n",
      "6/6 [==============================] - 278s 44s/step - loss: 0.6023 - accuracy: 0.6809 - val_loss: 0.6069 - val_accuracy: 0.6637\n",
      "Epoch 8/15\n",
      "6/6 [==============================] - 247s 41s/step - loss: 0.6024 - accuracy: 0.6794 - val_loss: 0.6019 - val_accuracy: 0.6578\n",
      "Epoch 9/15\n",
      "6/6 [==============================] - 263s 44s/step - loss: 0.5978 - accuracy: 0.6881 - val_loss: 0.6019 - val_accuracy: 0.6667\n",
      "Epoch 10/15\n",
      "6/6 [==============================] - 197s 32s/step - loss: 0.5956 - accuracy: 0.6855 - val_loss: 0.6021 - val_accuracy: 0.6519\n",
      "Epoch 11/15\n",
      "6/6 [==============================] - 215s 36s/step - loss: 0.5964 - accuracy: 0.6893 - val_loss: 0.6017 - val_accuracy: 0.6711\n",
      "Epoch 12/15\n",
      "6/6 [==============================] - 213s 36s/step - loss: 0.5956 - accuracy: 0.6855 - val_loss: 0.5988 - val_accuracy: 0.6607\n",
      "Epoch 13/15\n",
      "6/6 [==============================] - 209s 35s/step - loss: 0.5951 - accuracy: 0.6857 - val_loss: 0.5985 - val_accuracy: 0.6711\n",
      "Epoch 14/15\n",
      "6/6 [==============================] - 194s 32s/step - loss: 0.5911 - accuracy: 0.6870 - val_loss: 0.5956 - val_accuracy: 0.6815\n",
      "Epoch 15/15\n",
      "6/6 [==============================] - 190s 32s/step - loss: 0.5879 - accuracy: 0.6867 - val_loss: 0.5989 - val_accuracy: 0.6726\n"
     ]
    }
   ],
   "source": [
    "model_history=model.fit(X_train, y_train,batch_size=1024,epochs=15,validation_split=0.1,verbose=1)"
   ]
  },
  {
   "cell_type": "code",
   "execution_count": 62,
   "id": "909d8bbc-2557-453a-af97-ac3bcd6c53c7",
   "metadata": {},
   "outputs": [],
   "source": [
    "acc = model_history.history['accuracy']\n",
    "val_acc = model_history.history['val_accuracy']\n",
    "loss = model_history.history['loss']\n",
    "val_loss = model_history.history['val_loss']\n",
    "epochs=range(len(acc))"
   ]
  },
  {
   "cell_type": "code",
   "execution_count": 63,
   "id": "dddb5197-fd31-4bc7-9bce-15ce2429634c",
   "metadata": {},
   "outputs": [
    {
     "data": {
      "text/plain": [
       "Text(0.5, 1.0, 'Training and Validation Accuracy')"
      ]
     },
     "execution_count": 63,
     "metadata": {},
     "output_type": "execute_result"
    },
    {
     "data": {
      "image/png": "[encoded data removed]",
      "text/plain": [
       "<Figure size 432x288 with 1 Axes>"
      ]
     },
     "metadata": {
      "needs_background": "light"
     },
     "output_type": "display_data"
    }
   ],
   "source": [
    "plt.plot(epochs,acc,label='Trainin_acc',color='blue')\n",
    "plt.plot(epochs,val_acc,label='Validation_acc',color='red')\n",
    "plt.legend()\n",
    "plt.title(\"Training and Validation Accuracy\")"
   ]
  },
  {
   "cell_type": "code",
   "execution_count": 64,
   "id": "96ea360c-f1a3-4e62-9e36-6503ecb54660",
   "metadata": {},
   "outputs": [
    {
     "data": {
      "text/plain": [
       "Text(0.5, 1.0, 'Training and Validation loss')"
      ]
     },
     "execution_count": 64,
     "metadata": {},
     "output_type": "execute_result"
    },
    {
     "data": {
      "image/png": "[encoded data removed]",
      "text/plain": [
       "<Figure size 432x288 with 1 Axes>"
      ]
     },
     "metadata": {
      "needs_background": "light"
     },
     "output_type": "display_data"
    }
   ],
   "source": [
    "plt.plot(epochs,loss,label='Training_loss',color='blue')\n",
    "plt.plot(epochs,val_loss,label='Validation_loss',color='red')\n",
    "plt.legend()\n",
    "plt.title(\"Training and Validation loss\")"
   ]
  },
  {
   "cell_type": "code",
   "execution_count": null,
   "id": "162ca8d3-baf3-4910-8772-7871a4898f97",
   "metadata": {},
   "outputs": [],
   "source": []
  },
  {
   "cell_type": "code",
   "execution_count": null,
   "id": "29e765b1-106a-4c91-b544-75ef47a77b35",
   "metadata": {
    "jupyter": {
     "source_hidden": true
    },
    "tags": []
   },
   "outputs": [],
   "source": []
  },
  {
   "cell_type": "code",
   "execution_count": null,
   "id": "063192e5-e139-461c-a6e1-3cab7937df05",
   "metadata": {},
   "outputs": [],
   "source": []
  }
 ],
 "metadata": {
  "kernelspec": {
   "display_name": "Python 3",
   "language": "python",
   "name": "python3"
  },
  "language_info": {
   "codemirror_mode": {
    "name": "ipython",
    "version": 3
   },
   "file_extension": ".py",
   "mimetype": "text/x-python",
   "name": "python",
   "nbconvert_exporter": "python",
   "pygments_lexer": "ipython3",
   "version": "3.8.8"
  }
 },
 "nbformat": 4,
 "nbformat_minor": 5
}
