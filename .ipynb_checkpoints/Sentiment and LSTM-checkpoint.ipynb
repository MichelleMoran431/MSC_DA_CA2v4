{
 "cells": [
  {
   "cell_type": "code",
   "execution_count": null,
   "id": "8cacbdb3-8686-49ae-843b-11421af4a91a",
   "metadata": {},
   "outputs": [],
   "source": [
    "#### Import libraries"
   ]
  },
  {
   "cell_type": "code",
   "execution_count": null,
   "id": "68d0cddd-4f05-4e88-bdb9-b720d944ee56",
   "metadata": {},
   "outputs": [],
   "source": [
    "import numpy as np # linear algebra\n",
    "import pandas as pd # data processing, CSV file I/O (e.g. pd.read_csv)\n",
    "import matplotlib.pyplot as plt\n",
    "%matplotlib inline\n",
    "import gensim"
   ]
  },
  {
   "cell_type": "code",
   "execution_count": null,
   "id": "eead6d6b-a07e-421d-95a1-6d387b681473",
   "metadata": {},
   "outputs": [],
   "source": [
    "import nltk\n",
    "from nltk.corpus import stopwords\n",
    "import re\n",
    "import joblib\n",
    "from keras.preprocessing.text import Tokenizer\n",
    "\n",
    "from keras.utils import pad_sequences\n",
    "from sklearn.preprocessing import LabelEncoder\n",
    "from keras.layers import Embedding\n",
    "from keras.models import Sequential\n",
    "from keras.layers import Dense,LSTM,Dropout\n",
    "from sklearn.metrics import confusion_matrix,accuracy_score,classification_report"
   ]
  },
  {
   "cell_type": "code",
   "execution_count": null,
   "id": "36e6272b-8a29-4031-8ccc-29303904db98",
   "metadata": {},
   "outputs": [],
   "source": [
    "#### Import dataset "
   ]
  },
  {
   "cell_type": "code",
   "execution_count": null,
   "id": "4c61df20-c147-409a-b5d8-b78dec6f1f15",
   "metadata": {},
   "outputs": [],
   "source": [
    "FoodTweets = pd.read_csv(\"C:/Users/User/Documents/GitHub/MSC_DA_CA2v4/ProcessFilteredTweets.csv\", error_bad_lines=False)"
   ]
  },
  {
   "cell_type": "code",
   "execution_count": null,
   "id": "4a4f6e4d-da3c-4f4c-8c9f-848128521a7c",
   "metadata": {},
   "outputs": [],
   "source": [
    "FoodTweets.head(5)"
   ]
  },
  {
   "cell_type": "code",
   "execution_count": null,
   "id": "a6deb7db-57bc-4aea-bee3-1f4ccffe7438",
   "metadata": {},
   "outputs": [],
   "source": [
    "#### 1. Rename columns headings"
   ]
  },
  {
   "cell_type": "code",
   "execution_count": null,
   "id": "4f72200b-a9ed-4c2f-be5e-cbc785ba0870",
   "metadata": {},
   "outputs": [],
   "source": [
    "FoodTweets.rename(columns = {'column1':'Sentiment', 'column2':'ids',\n",
    "                              'column3':'date','column4':'flag','column5':'user','column6':'tweet'}, inplace = True)                                           "
   ]
  },
  {
   "cell_type": "code",
   "execution_count": null,
   "id": "acb7dab3-8484-42cb-abd4-341f44d3ad46",
   "metadata": {},
   "outputs": [],
   "source": [
    "FoodTweets.head(5)"
   ]
  },
  {
   "cell_type": "code",
   "execution_count": null,
   "id": "caf5bb0f-7a60-4212-91b9-ae4fd9678578",
   "metadata": {},
   "outputs": [],
   "source": [
    "FoodTweets['Polarity'] = FoodTweets.loc[:, 'Sentiment']"
   ]
  },
  {
   "cell_type": "code",
   "execution_count": null,
   "id": "1382293a-f4ce-4a12-a2ce-a2e7189a184c",
   "metadata": {},
   "outputs": [],
   "source": [
    "### 2. Removing the unnessary columns"
   ]
  },
  {
   "cell_type": "code",
   "execution_count": null,
   "id": "9959d865-3f6d-4404-a74c-de93afa153f8",
   "metadata": {},
   "outputs": [],
   "source": [
    "FoodTweetsa = FoodTweets [['Sentiment','tweet','date','Polarity']]\n",
    "FoodTweetsa.head(5)"
   ]
  },
  {
   "cell_type": "code",
   "execution_count": null,
   "id": "3f83c0e7-1db4-4c3a-a1e2-98c571150e7e",
   "metadata": {},
   "outputs": [],
   "source": [
    "### 3. Updating the Polarity column with negative , neutral and positive words"
   ]
  },
  {
   "cell_type": "code",
   "execution_count": null,
   "id": "86935d96-2ac4-4b24-a8a6-f9eb347619ac",
   "metadata": {},
   "outputs": [],
   "source": [
    "FoodTweetsa.Polarity.replace({0:'Negative',4:'Positive'},inplace=True)"
   ]
  },
  {
   "cell_type": "code",
   "execution_count": null,
   "id": "06be7765-c250-4702-bb15-bfa646cac602",
   "metadata": {},
   "outputs": [],
   "source": [
    "FoodTweetsa.to_csv('FoodTweets.csv')"
   ]
  },
  {
   "cell_type": "code",
   "execution_count": null,
   "id": "24ae5ad4-3cdc-437e-8cb0-d4d353baf7fd",
   "metadata": {},
   "outputs": [],
   "source": [
    "### 4. Removing stopwords"
   ]
  },
  {
   "cell_type": "code",
   "execution_count": null,
   "id": "dd2af5a9-f566-4cca-9eed-84314090b289",
   "metadata": {},
   "outputs": [],
   "source": [
    "stop_words=set(stopwords.words('english'))\n",
    "#stop_words.remove('not')"
   ]
  },
  {
   "cell_type": "code",
   "execution_count": null,
   "id": "1162cfc0-9da5-476a-8f15-7a596d29725d",
   "metadata": {},
   "outputs": [],
   "source": [
    "corpus=[]\n",
    "for i in range(0,len(FoodTweets)):\n",
    "    review=re.sub('@\\S+|https?:\\S+|http?:\\S|[^A-Za-z0-9]+',' ',FoodTweetsa['tweet'][i])\n",
    "    review=review.lower()\n",
    "    review=review.split()\n",
    "    review=[word for word in review if not word in stop_words]\n",
    "    review=' '.join(review)\n",
    "    corpus.append(review)"
   ]
  },
  {
   "cell_type": "code",
   "execution_count": null,
   "id": "9ac4ef4b-e86f-41cd-b5fc-cfa57e8d7460",
   "metadata": {},
   "outputs": [],
   "source": [
    "FoodTweetsa.tweet = corpus"
   ]
  },
  {
   "cell_type": "code",
   "execution_count": null,
   "id": "e13f4c53-e72a-4670-a26c-fa2235e9bb0f",
   "metadata": {},
   "outputs": [],
   "source": [
    "### 6. Creating the Training and testing datasets"
   ]
  },
  {
   "cell_type": "code",
   "execution_count": null,
   "id": "74e3a711-5878-4f84-a7b4-56ec68936283",
   "metadata": {},
   "outputs": [],
   "source": [
    "from sklearn.model_selection import train_test_split\n",
    "train_df,test_df=train_test_split(FoodTweetsa,test_size=0.20,random_state=123)"
   ]
  },
  {
   "cell_type": "code",
   "execution_count": null,
   "id": "aacab1ea-468a-4ce0-b4b3-d4861bbea7a5",
   "metadata": {},
   "outputs": [],
   "source": [
    "train_df.head()"
   ]
  },
  {
   "cell_type": "code",
   "execution_count": null,
   "id": "0dc001a4-a9f4-4508-98fd-73c696a7a725",
   "metadata": {},
   "outputs": [],
   "source": [
    "test_df.head()"
   ]
  },
  {
   "cell_type": "code",
   "execution_count": null,
   "id": "84b18bea-1506-49d6-abf5-fd6f9a802432",
   "metadata": {},
   "outputs": [],
   "source": [
    "### 7. Word2Vec(w2v) "
   ]
  },
  {
   "cell_type": "code",
   "execution_count": null,
   "id": "a9b67ead-85b5-492a-9c9f-cc81d43dc9b6",
   "metadata": {},
   "outputs": [],
   "source": [
    "documents = [text.split() for text in train_df.tweet]"
   ]
  },
  {
   "cell_type": "code",
   "execution_count": null,
   "id": "f4825274-6ec0-4584-bc4d-4ec5079fb79e",
   "metadata": {},
   "outputs": [],
   "source": [
    "documents = [text.split() for text in train_df.tweet]"
   ]
  },
  {
   "cell_type": "code",
   "execution_count": null,
   "id": "66ad053b-0172-48f8-8843-9d29fdd75579",
   "metadata": {},
   "outputs": [],
   "source": [
    "w2v_model = gensim.models.word2vec.Word2Vec(vector_size=300, \n",
    "                                            window=7, \n",
    "                                            min_count=10, \n",
    "                                            workers=8)"
   ]
  },
  {
   "cell_type": "code",
   "execution_count": null,
   "id": "4c003e39-09eb-4736-bfc4-7d261cc24e71",
   "metadata": {},
   "outputs": [],
   "source": [
    "w2v_model.build_vocab(documents)"
   ]
  },
  {
   "cell_type": "code",
   "execution_count": null,
   "id": "847ec225-cc1b-44aa-8ad7-e8f53ef4ee34",
   "metadata": {},
   "outputs": [],
   "source": [
    "vocab_len = len(w2v_model.wv)\n",
    "print(vocab_len)"
   ]
  },
  {
   "cell_type": "code",
   "execution_count": null,
   "id": "5245e797-aeec-4ec2-9fb8-534da99cc1f1",
   "metadata": {},
   "outputs": [],
   "source": [
    "w2v_model.train(documents, total_examples=len(documents), epochs=30)"
   ]
  },
  {
   "cell_type": "code",
   "execution_count": null,
   "id": "ea5cd871-770f-4891-bb51-f835f2949634",
   "metadata": {},
   "outputs": [],
   "source": [
    "w2v_model.wv.most_similar(\"good\")"
   ]
  },
  {
   "cell_type": "code",
   "execution_count": null,
   "id": "29b067d6-ec0d-4c2a-bbe5-3c10be7bf81c",
   "metadata": {},
   "outputs": [],
   "source": [
    "w2v_model.wv.most_similar(\"hate\")"
   ]
  },
  {
   "cell_type": "code",
   "execution_count": null,
   "id": "36afb24a-0c69-4a58-86da-902fd2150e02",
   "metadata": {},
   "outputs": [],
   "source": [
    "w2v_model.wv.most_similar(\"great\")"
   ]
  },
  {
   "cell_type": "code",
   "execution_count": null,
   "id": "4b37b1c5-8ff6-48e2-ae99-4e4769f99a17",
   "metadata": {},
   "outputs": [],
   "source": [
    "### 8. Tokenisation"
   ]
  },
  {
   "cell_type": "code",
   "execution_count": null,
   "id": "eb13c477-9d88-4156-8229-f9d6ffb19695",
   "metadata": {},
   "outputs": [],
   "source": [
    "tokenizer = Tokenizer()\n",
    "tokenizer.fit_on_texts(train_df.tweet)"
   ]
  },
  {
   "cell_type": "code",
   "execution_count": null,
   "id": "60837c19-3578-472a-baab-805006c44000",
   "metadata": {},
   "outputs": [],
   "source": [
    "tokenizer.word_index"
   ]
  },
  {
   "cell_type": "code",
   "execution_count": null,
   "id": "d328a0aa-3c06-45fd-b2f9-ca0f9b2a84df",
   "metadata": {},
   "outputs": [],
   "source": [
    "vocab_size=len(tokenizer.word_index)+1\n",
    "vocab_size"
   ]
  },
  {
   "cell_type": "code",
   "execution_count": null,
   "id": "982b2321-1260-4975-bdc5-1932bece0a15",
   "metadata": {},
   "outputs": [],
   "source": [
    "X_train = pad_sequences(tokenizer.texts_to_sequences(train_df.tweet), maxlen=300)\n",
    "X_train"
   ]
  },
  {
   "cell_type": "code",
   "execution_count": null,
   "id": "cbeea7d1-0a9f-460d-bd9d-7dcd4ac09cd9",
   "metadata": {},
   "outputs": [],
   "source": [
    "X_test = pad_sequences(tokenizer.texts_to_sequences(test_df.tweet), maxlen=300)\n",
    "X_test"
   ]
  },
  {
   "cell_type": "code",
   "execution_count": null,
   "id": "b1cdec27-519e-43ae-b126-443b9aceb2a3",
   "metadata": {},
   "outputs": [],
   "source": [
    "y_train=train_df.Sentiment\n",
    "y_train.head()"
   ]
  },
  {
   "cell_type": "code",
   "execution_count": null,
   "id": "de41d3ad-a922-4f78-b090-a607e9caec06",
   "metadata": {},
   "outputs": [],
   "source": [
    "y_test=test_df.Sentiment\n",
    "y_test.head()"
   ]
  },
  {
   "cell_type": "code",
   "execution_count": null,
   "id": "aed9382b-507a-4473-b077-579e18c3ebf1",
   "metadata": {},
   "outputs": [],
   "source": [
    "labelencoder = LabelEncoder()\n",
    "y_train = labelencoder.fit_transform(y_train)\n",
    "y_test=labelencoder.fit_transform(y_test)"
   ]
  },
  {
   "cell_type": "code",
   "execution_count": null,
   "id": "6159a13f-0642-4039-9e7e-d19b9f43b2bc",
   "metadata": {},
   "outputs": [],
   "source": [
    "y_train.shape"
   ]
  },
  {
   "cell_type": "code",
   "execution_count": null,
   "id": "dd689f87-8fdd-460f-ac36-43706c4b00f7",
   "metadata": {},
   "outputs": [],
   "source": [
    "y_test.shape"
   ]
  },
  {
   "cell_type": "code",
   "execution_count": null,
   "id": "e866693c-8795-4034-aeaf-688e7faee411",
   "metadata": {},
   "outputs": [],
   "source": [
    "embedding_matrix = np.zeros((vocab_size, 300))\n",
    "for word, i in tokenizer.word_index.items():\n",
    "  if word in w2v_model.wv:\n",
    "    embedding_matrix[i] = w2v_model.wv[word]\n",
    "print(embedding_matrix.shape)"
   ]
  },
  {
   "cell_type": "code",
   "execution_count": null,
   "id": "bb27e630-57b7-497b-8220-ff4526bf7836",
   "metadata": {},
   "outputs": [],
   "source": [
    "embedding_layer = Embedding(vocab_size, 300, weights=[embedding_matrix], input_length=300, trainable=False)"
   ]
  },
  {
   "cell_type": "code",
   "execution_count": null,
   "id": "3fdcf06b-c7d5-4e54-bbc6-1af3faa262fb",
   "metadata": {},
   "outputs": [],
   "source": [
    "model = Sequential()\n",
    "model.add(embedding_layer)\n",
    "model.add(Dropout(0.5))\n",
    "model.add(LSTM(128, dropout=0.2, recurrent_dropout=0.2))\n",
    "model.add(Dense(1, activation='sigmoid'))\n",
    "model.summary()"
   ]
  },
  {
   "cell_type": "code",
   "execution_count": null,
   "id": "4a444314-f1f4-4b70-b028-1a168ebb71f9",
   "metadata": {},
   "outputs": [],
   "source": [
    "model.compile(loss='binary_crossentropy',\n",
    "              optimizer=\"adam\",\n",
    "              metrics=['accuracy'])"
   ]
  },
  {
   "cell_type": "code",
   "execution_count": null,
   "id": "d880c2b0-2414-4b83-a7a3-ec650e19b1aa",
   "metadata": {},
   "outputs": [],
   "source": [
    "model_history=model.fit(X_train, y_train,validation_data=(X_test, y_test),batch_size=32,epochs=30,verbose=1)"
   ]
  },
  {
   "cell_type": "code",
   "execution_count": null,
   "id": "71c7a400-e671-40a6-9025-1fe736e5e2ed",
   "metadata": {},
   "outputs": [],
   "source": [
    "# Evaluate the model on the test set for 1 month\n",
    "_, accuracy_1m = model.evaluate(X_test, y_test)\n",
    "30"
   ]
  },
  {
   "cell_type": "code",
   "execution_count": null,
   "id": "49cf4654-afbe-4d5a-9b61-e155de921453",
   "metadata": {},
   "outputs": [],
   "source": [
    "# Train the model for 3 months\n",
    "model.fit(X_train, y_train, validation_data=(X_test, y_test), epochs=90, batch_size=32)"
   ]
  },
  {
   "cell_type": "code",
   "execution_count": null,
   "id": "f823f328-93b6-47fc-a6d1-fdeb2cb4bf17",
   "metadata": {},
   "outputs": [],
   "source": [
    "# Evaluate the model on the test set for 3 months\n",
    "_, accuracy_3m = model.evaluate(X_test, y_test)\n"
   ]
  },
  {
   "cell_type": "code",
   "execution_count": null,
   "id": "1ae4cf72-7ce0-4ac4-b7f1-bc8f32ef76b4",
   "metadata": {},
   "outputs": [],
   "source": [
    "# Train the model for 1 week\n",
    "model.fit(X_train, y_train, validation_data=(X_test, y_test), epochs=7, batch_size=32)"
   ]
  },
  {
   "cell_type": "code",
   "execution_count": null,
   "id": "40205fab-f0f8-4a42-a6d4-7991de91eb1e",
   "metadata": {},
   "outputs": [],
   "source": [
    "# Evaluate the model on the test set for 1 week\n",
    "_, accuracy_1w = model.evaluate(X_test, y_test)\n"
   ]
  },
  {
   "cell_type": "code",
   "execution_count": null,
   "id": "4e26d00d-b789-4979-89d6-da27616013c2",
   "metadata": {},
   "outputs": [],
   "source": [
    "# Create the Dash app\n",
    "app = dash.Dash(__name__)"
   ]
  },
  {
   "cell_type": "code",
   "execution_count": null,
   "id": "276019f9-97e9-4d1d-abbc-260759f5e268",
   "metadata": {},
   "outputs": [],
   "source": [
    "# Define the layout of the app\n",
    "app.layout = html.Div(children=[\n",
    "    html.H1('Sentiment Analysis Dashboard'),\n",
    "    html.Div(children=[\n",
    "        html.H3('Accuracy'),\n",
    "        html.Div(children=[\n",
    "            html.Div('1 week:'),\n",
    "            html.Div(f'{accuracy_1w:.4f}'),\n",
    "        ]),\n",
    "        html.Div(children=[\n",
    "            html.Div('1 month:'),\n",
    "            html.Div(f'{accuracy_1m:.4f}'),\n",
    "        ]),\n",
    "        html.Div(children=[\n",
    "            html.Div('3 months:'),\n",
    "            html.Div(f'{accuracy_3m:.4f}'),\n",
    "        ]),\n",
    "    ]),\n",
    "    dcc.Graph(\n",
    "        id='accuracy-graph',\n",
    "        figure={\n",
    "            'data': [\n",
    "                {'x': ['1 week', '1 month', '3 months'], 'y': [accuracy_1w, accuracy_1m, accuracy_3m], 'type': 'bar', 'name': 'Accuracy'},\n",
    "            ],\n",
    "            'layout': {\n",
    "                'title': 'Sentiment Analysis Accuracy for Different Time Periods',\n",
    "                'yaxis': {'title': 'Accuracy'},\n",
    "            }\n",
    "        }\n",
    "    )\n",
    "])\n",
    "\n",
    "# Run the app\n",
    "if __name__ == '__main__':\n",
    "    app.run_server(debug=True, use_reloader=False)"
   ]
  },
  {
   "cell_type": "code",
   "execution_count": null,
   "id": "ba0acff3-c0b2-4ac8-be37-55cccbac3e8c",
   "metadata": {},
   "outputs": [],
   "source": []
  }
 ],
 "metadata": {
  "kernelspec": {
   "display_name": "Python 3",
   "language": "python",
   "name": "python3"
  },
  "language_info": {
   "codemirror_mode": {
    "name": "ipython",
    "version": 3
   },
   "file_extension": ".py",
   "mimetype": "text/x-python",
   "name": "python",
   "nbconvert_exporter": "python",
   "pygments_lexer": "ipython3",
   "version": "3.8.8"
  }
 },
 "nbformat": 4,
 "nbformat_minor": 5
}
