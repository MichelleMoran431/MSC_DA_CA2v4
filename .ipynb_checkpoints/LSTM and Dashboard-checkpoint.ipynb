{
 "cells": [
  {
   "cell_type": "code",
   "execution_count": 46,
   "id": "2fed5e61-3ad3-4fac-a789-0e403e57e11f",
   "metadata": {},
   "outputs": [],
   "source": [
    "import numpy as np\n",
    "import pandas as pd\n",
    "import dash\n",
    "import dash_core_components as dcc\n",
    "import dash_html_components as html\n",
    "\n",
    "\n",
    "from dash.dependencies import Input, Output\n",
    "from keras.models import Sequential\n",
    "from keras.layers import Dense, LSTM, Embedding\n",
    "from keras.preprocessing.text import Tokenizer\n",
    "from keras.utils import pad_sequences\n",
    "from sklearn.model_selection import train_test_split\n",
    "from sklearn.metrics import accuracy_score\n"
   ]
  },
  {
   "cell_type": "code",
   "execution_count": 30,
   "id": "8654d7bd-da8f-40f0-ba54-5f2331b7b02e",
   "metadata": {},
   "outputs": [
    {
     "data": {
      "text/html": [
       "<div>\n",
       "<style scoped>\n",
       "    .dataframe tbody tr th:only-of-type {\n",
       "        vertical-align: middle;\n",
       "    }\n",
       "\n",
       "    .dataframe tbody tr th {\n",
       "        vertical-align: top;\n",
       "    }\n",
       "\n",
       "    .dataframe thead th {\n",
       "        text-align: right;\n",
       "    }\n",
       "</style>\n",
       "<table border=\"1\" class=\"dataframe\">\n",
       "  <thead>\n",
       "    <tr style=\"text-align: right;\">\n",
       "      <th></th>\n",
       "      <th>Unnamed: 0</th>\n",
       "      <th>Sentiment</th>\n",
       "      <th>ids</th>\n",
       "      <th>date</th>\n",
       "      <th>flag</th>\n",
       "      <th>user</th>\n",
       "      <th>tweet</th>\n",
       "      <th>Polarity</th>\n",
       "    </tr>\n",
       "  </thead>\n",
       "  <tbody>\n",
       "    <tr>\n",
       "      <th>0</th>\n",
       "      <td>0</td>\n",
       "      <td>0</td>\n",
       "      <td>1.678358e+09</td>\n",
       "      <td>Sat May 02 06:26:48 PDT 2009</td>\n",
       "      <td>NO_QUERY</td>\n",
       "      <td>kconnxx</td>\n",
       "      <td>glad to know my family bought tons of gluten f...</td>\n",
       "      <td>Negative</td>\n",
       "    </tr>\n",
       "    <tr>\n",
       "      <th>1</th>\n",
       "      <td>1</td>\n",
       "      <td>0</td>\n",
       "      <td>1.827494e+09</td>\n",
       "      <td>Sun May 17 10:49:49 PDT 2009</td>\n",
       "      <td>NO_QUERY</td>\n",
       "      <td>MarieLuv</td>\n",
       "      <td>@pornlaw damn u on the grill when i'm in vegas...</td>\n",
       "      <td>Negative</td>\n",
       "    </tr>\n",
       "    <tr>\n",
       "      <th>2</th>\n",
       "      <td>2</td>\n",
       "      <td>0</td>\n",
       "      <td>1.834532e+09</td>\n",
       "      <td>Mon May 18 03:17:33 PDT 2009</td>\n",
       "      <td>NO_QUERY</td>\n",
       "      <td>angelynewolfe</td>\n",
       "      <td>tofu too healthy... searching through the cupb...</td>\n",
       "      <td>Negative</td>\n",
       "    </tr>\n",
       "    <tr>\n",
       "      <th>3</th>\n",
       "      <td>3</td>\n",
       "      <td>0</td>\n",
       "      <td>1.963275e+09</td>\n",
       "      <td>Fri May 29 12:28:39 PDT 2009</td>\n",
       "      <td>NO_QUERY</td>\n",
       "      <td>UlyssesAR</td>\n",
       "      <td>looking for food at home!.... nothing</td>\n",
       "      <td>Negative</td>\n",
       "    </tr>\n",
       "    <tr>\n",
       "      <th>4</th>\n",
       "      <td>4</td>\n",
       "      <td>0</td>\n",
       "      <td>1.976219e+09</td>\n",
       "      <td>Sat May 30 16:50:48 PDT 2009</td>\n",
       "      <td>NO_QUERY</td>\n",
       "      <td>Kelsayy237</td>\n",
       "      <td>watching something on food network with corey....</td>\n",
       "      <td>Negative</td>\n",
       "    </tr>\n",
       "  </tbody>\n",
       "</table>\n",
       "</div>"
      ],
      "text/plain": [
       "   Unnamed: 0  Sentiment           ids                          date  \\\n",
       "0           0          0  1.678358e+09  Sat May 02 06:26:48 PDT 2009   \n",
       "1           1          0  1.827494e+09  Sun May 17 10:49:49 PDT 2009   \n",
       "2           2          0  1.834532e+09  Mon May 18 03:17:33 PDT 2009   \n",
       "3           3          0  1.963275e+09  Fri May 29 12:28:39 PDT 2009   \n",
       "4           4          0  1.976219e+09  Sat May 30 16:50:48 PDT 2009   \n",
       "\n",
       "       flag           user                                              tweet  \\\n",
       "0  NO_QUERY        kconnxx  glad to know my family bought tons of gluten f...   \n",
       "1  NO_QUERY       MarieLuv  @pornlaw damn u on the grill when i'm in vegas...   \n",
       "2  NO_QUERY  angelynewolfe  tofu too healthy... searching through the cupb...   \n",
       "3  NO_QUERY      UlyssesAR              looking for food at home!.... nothing   \n",
       "4  NO_QUERY     Kelsayy237  watching something on food network with corey....   \n",
       "\n",
       "   Polarity  \n",
       "0  Negative  \n",
       "1  Negative  \n",
       "2  Negative  \n",
       "3  Negative  \n",
       "4  Negative  "
      ]
     },
     "execution_count": 30,
     "metadata": {},
     "output_type": "execute_result"
    }
   ],
   "source": [
    "# Load and preprocess the data\n",
    "FoodTweetsa = pd.read_csv(\"C:/Users/User/Documents/GitHub/MSC_DA_CA2v4/FoodTweets.csv\", error_bad_lines=False)  # Assuming you have a CSV file with tweet data\n",
    "tweets = FoodTweetsa['tweet'].values\n",
    "labels = FoodTweetsa['Sentiment'].values\n",
    "FoodTweetsa.head(5)"
   ]
  },
  {
   "cell_type": "code",
   "execution_count": 34,
   "id": "6034e5e8-a3fe-4758-98a0-7b61a1f55c86",
   "metadata": {},
   "outputs": [],
   "source": [
    "# Tokenize and pad the sequences\n",
    "tokenizer = Tokenizer(num_words=10000)\n",
    "tokenizer.fit_on_texts(tweets)\n",
    "sequences = tokenizer.texts_to_sequences(tweets)\n",
    "padded_sequences = pad_sequences(sequences, maxlen=100)\n",
    "\n"
   ]
  },
  {
   "cell_type": "code",
   "execution_count": 35,
   "id": "ba444a59-45e6-4c2e-b3c7-35cbbbbfde5f",
   "metadata": {},
   "outputs": [],
   "source": [
    "# Split the data into training and testing sets\n",
    "X_train, X_test, y_train, y_test = train_test_split(padded_sequences, labels, test_size=0.2, random_state=42)\n",
    "\n"
   ]
  },
  {
   "cell_type": "code",
   "execution_count": 36,
   "id": "a403bcb8-bf44-4a68-8266-ab28069422b4",
   "metadata": {},
   "outputs": [],
   "source": [
    "# Define the LSTM model\n",
    "model = Sequential()\n",
    "model.add(Embedding(10000, 128, input_length=100))\n",
    "model.add(LSTM(128))\n",
    "model.add(Dense(1, activation='sigmoid'))\n"
   ]
  },
  {
   "cell_type": "code",
   "execution_count": 37,
   "id": "d79ac67b-f46f-4d90-aaf2-c9dcd499c1d4",
   "metadata": {},
   "outputs": [],
   "source": [
    "# Compile the model\n",
    "model.compile(loss='binary_crossentropy', optimizer='adam', metrics=['accuracy'])\n"
   ]
  },
  {
   "cell_type": "code",
   "execution_count": 38,
   "id": "2ca2d560-0b24-41c5-8a6e-8c44121e1533",
   "metadata": {},
   "outputs": [
    {
     "name": "stdout",
     "output_type": "stream",
     "text": [
      "Epoch 1/7\n",
      "211/211 [==============================] - 74s 309ms/step - loss: -24.3949 - accuracy: 0.0018 - val_loss: -39.6621 - val_accuracy: 0.0000e+00\n",
      "Epoch 2/7\n",
      "211/211 [==============================] - 58s 273ms/step - loss: -51.7816 - accuracy: 0.0000e+00 - val_loss: -65.1748 - val_accuracy: 0.0000e+00\n",
      "Epoch 3/7\n",
      "211/211 [==============================] - 62s 294ms/step - loss: -77.0700 - accuracy: 0.0000e+00 - val_loss: -90.6572 - val_accuracy: 0.0000e+00\n",
      "Epoch 4/7\n",
      "211/211 [==============================] - 76s 362ms/step - loss: -102.2045 - accuracy: 0.0000e+00 - val_loss: -116.2468 - val_accuracy: 0.0000e+00\n",
      "Epoch 5/7\n",
      "211/211 [==============================] - 72s 339ms/step - loss: -127.5383 - accuracy: 0.0000e+00 - val_loss: -141.9711 - val_accuracy: 0.0000e+00\n",
      "Epoch 6/7\n",
      "211/211 [==============================] - 63s 301ms/step - loss: -153.3975 - accuracy: 0.0000e+00 - val_loss: -166.2716 - val_accuracy: 0.0000e+00\n",
      "Epoch 7/7\n",
      "211/211 [==============================] - 58s 277ms/step - loss: -196.9235 - accuracy: 0.0000e+00 - val_loss: -181.0514 - val_accuracy: 0.0000e+00\n"
     ]
    },
    {
     "data": {
      "text/plain": [
       "<keras.callbacks.History at 0x2160ffe2580>"
      ]
     },
     "execution_count": 38,
     "metadata": {},
     "output_type": "execute_result"
    }
   ],
   "source": [
    "# Train the model for 1 week\n",
    "model.fit(X_train, y_train, validation_data=(X_test, y_test), epochs=7, batch_size=32)\n",
    "\n"
   ]
  },
  {
   "cell_type": "code",
   "execution_count": 24,
   "id": "ebceff86-23f6-4660-abc9-92ec2c4486b9",
   "metadata": {},
   "outputs": [
    {
     "name": "stdout",
     "output_type": "stream",
     "text": [
      "53/53 [==============================] - 3s 54ms/step - loss: -182.9943 - accuracy: 0.0273\n"
     ]
    }
   ],
   "source": [
    "# Evaluate the model on the test set for 1 month\n",
    "_, accuracy_1m = model.evaluate(X_test, y_test)\n",
    "\n"
   ]
  },
  {
   "cell_type": "code",
   "execution_count": null,
   "id": "02d18a98-ae2c-4229-a04e-cb0fd5f6a313",
   "metadata": {},
   "outputs": [
    {
     "name": "stdout",
     "output_type": "stream",
     "text": [
      "Epoch 1/90\n",
      "211/211 [==============================] - 39s 187ms/step - loss: -238.5223 - accuracy: 0.1058 - val_loss: -201.0464 - val_accuracy: 0.0860\n",
      "Epoch 2/90\n",
      "211/211 [==============================] - 52s 247ms/step - loss: -282.9523 - accuracy: 0.1989 - val_loss: -224.4111 - val_accuracy: 0.1406\n",
      "Epoch 3/90\n",
      "211/211 [==============================] - 46s 217ms/step - loss: -324.4647 - accuracy: 0.2550 - val_loss: -258.7047 - val_accuracy: 0.1661\n",
      "Epoch 4/90\n",
      "211/211 [==============================] - 43s 203ms/step - loss: -367.5378 - accuracy: 0.2619 - val_loss: -287.1265 - val_accuracy: 0.1157\n",
      "Epoch 5/90\n",
      "211/211 [==============================] - 40s 191ms/step - loss: -411.4205 - accuracy: 0.2922 - val_loss: -309.6946 - val_accuracy: 0.1483\n",
      "Epoch 6/90\n",
      "211/211 [==============================] - 39s 182ms/step - loss: -453.4084 - accuracy: 0.2972 - val_loss: -337.4235 - val_accuracy: 0.1406\n",
      "Epoch 7/90\n",
      "211/211 [==============================] - 35s 165ms/step - loss: -492.9545 - accuracy: 0.3167 - val_loss: -351.8496 - val_accuracy: 0.1625\n",
      "Epoch 8/90\n",
      "211/211 [==============================] - 34s 163ms/step - loss: -531.8602 - accuracy: 0.3278 - val_loss: -385.2120 - val_accuracy: 0.1542\n",
      "Epoch 9/90\n",
      "211/211 [==============================] - 34s 162ms/step - loss: -572.5747 - accuracy: 0.3302 - val_loss: -406.8104 - val_accuracy: 0.1619\n",
      "Epoch 10/90\n",
      "211/211 [==============================] - 35s 164ms/step - loss: -610.7816 - accuracy: 0.3400 - val_loss: -423.7437 - val_accuracy: 0.1845\n",
      "Epoch 11/90\n",
      "211/211 [==============================] - 34s 163ms/step - loss: -643.4920 - accuracy: 0.3253 - val_loss: -448.1640 - val_accuracy: 0.1767\n",
      "Epoch 12/90\n",
      "211/211 [==============================] - 35s 165ms/step - loss: -686.5945 - accuracy: 0.3411 - val_loss: -474.0380 - val_accuracy: 0.1696\n",
      "Epoch 13/90\n",
      "211/211 [==============================] - 35s 164ms/step - loss: -724.4601 - accuracy: 0.3529 - val_loss: -504.4414 - val_accuracy: 0.1489\n",
      "Epoch 14/90\n",
      "211/211 [==============================] - 35s 164ms/step - loss: -761.8668 - accuracy: 0.3570 - val_loss: -525.5279 - val_accuracy: 0.1785\n",
      "Epoch 15/90\n",
      "211/211 [==============================] - 36s 171ms/step - loss: -800.7934 - accuracy: 0.3637 - val_loss: -534.0900 - val_accuracy: 0.1957\n",
      "Epoch 16/90\n",
      "211/211 [==============================] - 34s 163ms/step - loss: -838.9526 - accuracy: 0.3770 - val_loss: -569.7071 - val_accuracy: 0.1720\n",
      "Epoch 17/90\n",
      "211/211 [==============================] - 35s 164ms/step - loss: -874.2800 - accuracy: 0.3704 - val_loss: -585.8759 - val_accuracy: 0.1868\n",
      "Epoch 18/90\n",
      "211/211 [==============================] - 35s 164ms/step - loss: -912.3900 - accuracy: 0.3767 - val_loss: -617.0273 - val_accuracy: 0.1767\n",
      "Epoch 19/90\n",
      "211/211 [==============================] - 35s 164ms/step - loss: -951.3751 - accuracy: 0.3805 - val_loss: -628.5448 - val_accuracy: 0.1874\n",
      "Epoch 20/90\n",
      "211/211 [==============================] - 35s 165ms/step - loss: -984.8346 - accuracy: 0.3592 - val_loss: -667.8416 - val_accuracy: 0.1619\n",
      "Epoch 21/90\n",
      "211/211 [==============================] - 36s 168ms/step - loss: -1021.2631 - accuracy: 0.3674 - val_loss: -674.8034 - val_accuracy: 0.2017\n",
      "Epoch 22/90\n",
      "211/211 [==============================] - 35s 166ms/step - loss: -1053.6239 - accuracy: 0.3591 - val_loss: -725.0073 - val_accuracy: 0.1572\n",
      "Epoch 23/90\n",
      "211/211 [==============================] - 36s 171ms/step - loss: -1091.6470 - accuracy: 0.3778 - val_loss: -720.9064 - val_accuracy: 0.2100\n",
      "Epoch 24/90\n",
      "211/211 [==============================] - 38s 179ms/step - loss: -1129.1853 - accuracy: 0.3828 - val_loss: -746.8799 - val_accuracy: 0.1726\n",
      "Epoch 25/90\n",
      "211/211 [==============================] - 38s 180ms/step - loss: -1161.3060 - accuracy: 0.3776 - val_loss: -725.3603 - val_accuracy: 0.2023\n",
      "Epoch 26/90\n",
      "211/211 [==============================] - 35s 167ms/step - loss: -1202.5146 - accuracy: 0.3773 - val_loss: -768.7738 - val_accuracy: 0.1845\n",
      "Epoch 27/90\n",
      "211/211 [==============================] - 35s 168ms/step - loss: -1242.1995 - accuracy: 0.3861 - val_loss: -811.3424 - val_accuracy: 0.1797\n",
      "Epoch 28/90\n",
      "211/211 [==============================] - 35s 168ms/step - loss: -1274.3837 - accuracy: 0.3718 - val_loss: -846.8936 - val_accuracy: 0.1607\n",
      "Epoch 29/90\n",
      "211/211 [==============================] - 35s 167ms/step - loss: -1316.0095 - accuracy: 0.3745 - val_loss: -856.0838 - val_accuracy: 0.1756\n",
      "Epoch 30/90\n",
      "211/211 [==============================] - 35s 165ms/step - loss: -1354.4185 - accuracy: 0.3850 - val_loss: -875.7980 - val_accuracy: 0.1744\n",
      "Epoch 31/90\n",
      "211/211 [==============================] - 35s 167ms/step - loss: -1389.3408 - accuracy: 0.3784 - val_loss: -870.4054 - val_accuracy: 0.1945\n",
      "Epoch 32/90\n",
      "211/211 [==============================] - 36s 171ms/step - loss: -1426.2540 - accuracy: 0.3874 - val_loss: -907.9766 - val_accuracy: 0.1940\n",
      "Epoch 33/90\n",
      "211/211 [==============================] - 36s 170ms/step - loss: -1462.2781 - accuracy: 0.3807 - val_loss: -926.1182 - val_accuracy: 0.1714\n",
      "Epoch 34/90\n",
      "211/211 [==============================] - 35s 165ms/step - loss: -1501.7297 - accuracy: 0.3868 - val_loss: -944.7335 - val_accuracy: 0.1957\n",
      "Epoch 35/90\n",
      "211/211 [==============================] - 33s 158ms/step - loss: -1538.8905 - accuracy: 0.3819 - val_loss: -977.2666 - val_accuracy: 0.1827\n",
      "Epoch 36/90\n",
      "211/211 [==============================] - 33s 156ms/step - loss: -1575.7463 - accuracy: 0.3848 - val_loss: -1000.5857 - val_accuracy: 0.1773\n",
      "Epoch 37/90\n",
      "211/211 [==============================] - 33s 157ms/step - loss: -1614.2034 - accuracy: 0.3877 - val_loss: -1027.4274 - val_accuracy: 0.1720\n",
      "Epoch 38/90\n",
      "211/211 [==============================] - 33s 156ms/step - loss: -1652.1637 - accuracy: 0.3919 - val_loss: -1027.6543 - val_accuracy: 0.1910\n",
      "Epoch 39/90\n",
      "211/211 [==============================] - 33s 157ms/step - loss: -1685.6729 - accuracy: 0.3870 - val_loss: -1080.8029 - val_accuracy: 0.1518\n",
      "Epoch 40/90\n",
      "211/211 [==============================] - 34s 163ms/step - loss: -1721.4175 - accuracy: 0.3819 - val_loss: -1141.8101 - val_accuracy: 0.1465\n",
      "Epoch 41/90\n",
      " 29/211 [===>..........................] - ETA: 31s - loss: -1785.9282 - accuracy: 0.3588"
     ]
    }
   ],
   "source": [
    "# Train the model for 3 months\n",
    "#model.fit(X_train, y_train, validation_data=(X_test, y_test), epochs=7, batch_size=32)\n",
    "\n"
   ]
  },
  {
   "cell_type": "code",
   "execution_count": 44,
   "id": "06117281-352d-4787-b3b4-03ae889c9544",
   "metadata": {},
   "outputs": [
    {
     "name": "stdout",
     "output_type": "stream",
     "text": [
      "53/53 [==============================] - 5s 85ms/step - loss: -369.1477 - accuracy: 0.0575\n"
     ]
    }
   ],
   "source": [
    "# Evaluate the model on the test set for 3 months\n",
    "_, accuracy_3m = model.evaluate(X_test, y_test)\n",
    "\n"
   ]
  },
  {
   "cell_type": "code",
   "execution_count": 40,
   "id": "6492ed2b-8cc9-4bdb-93fb-6ae81b9d3761",
   "metadata": {},
   "outputs": [
    {
     "name": "stdout",
     "output_type": "stream",
     "text": [
      "Epoch 1/7\n",
      "211/211 [==============================] - 85s 403ms/step - loss: -237.6148 - accuracy: 0.0202 - val_loss: -208.3959 - val_accuracy: 0.0332\n",
      "Epoch 2/7\n",
      "211/211 [==============================] - 78s 370ms/step - loss: -278.2138 - accuracy: 0.0325 - val_loss: -233.9742 - val_accuracy: 0.0142\n",
      "Epoch 3/7\n",
      "211/211 [==============================] - 78s 371ms/step - loss: -320.3027 - accuracy: 0.0564 - val_loss: -259.7176 - val_accuracy: 0.0249\n",
      "Epoch 4/7\n",
      "211/211 [==============================] - 89s 423ms/step - loss: -362.9238 - accuracy: 0.0736 - val_loss: -280.6620 - val_accuracy: 0.0629\n",
      "Epoch 5/7\n",
      "211/211 [==============================] - 80s 379ms/step - loss: -403.4674 - accuracy: 0.0874 - val_loss: -315.7243 - val_accuracy: 0.0320\n",
      "Epoch 6/7\n",
      "211/211 [==============================] - 86s 409ms/step - loss: -448.4883 - accuracy: 0.0973 - val_loss: -343.8115 - val_accuracy: 0.0563\n",
      "Epoch 7/7\n",
      "211/211 [==============================] - 82s 390ms/step - loss: -490.3879 - accuracy: 0.1166 - val_loss: -369.1477 - val_accuracy: 0.0575\n"
     ]
    },
    {
     "data": {
      "text/plain": [
       "<keras.callbacks.History at 0x2160eb231f0>"
      ]
     },
     "execution_count": 40,
     "metadata": {},
     "output_type": "execute_result"
    }
   ],
   "source": [
    "# Train the model for 3 months\n",
    "model.fit(X_train, y_train, validation_data=(X_test, y_test), epochs=7, batch_size=32)"
   ]
  },
  {
   "cell_type": "code",
   "execution_count": 45,
   "id": "b869a2e9-9bad-4a11-a084-03bb74f245cd",
   "metadata": {},
   "outputs": [
    {
     "name": "stdout",
     "output_type": "stream",
     "text": [
      "53/53 [==============================] - 4s 80ms/step - loss: -369.1477 - accuracy: 0.0575\n"
     ]
    }
   ],
   "source": [
    "# Evaluate the model on the test set for 1 week\n",
    "_, accuracy_1w = model.evaluate(X_test, y_test)\n"
   ]
  },
  {
   "cell_type": "code",
   "execution_count": 48,
   "id": "97e6f3a0-c866-48b9-b261-581a1d0425cd",
   "metadata": {},
   "outputs": [],
   "source": [
    "# Create the Dash app\n",
    "app = dash.Dash(__name__)"
   ]
  },
  {
   "cell_type": "code",
   "execution_count": null,
   "id": "d65c7129-f09b-4864-bb1e-2c56a31df560",
   "metadata": {},
   "outputs": [],
   "source": [
    "\n",
    "# Define the layout of the app\n",
    "app.layout = html.Div(children=[\n",
    "    html.H1('Sentiment Analysis Dashboard'),\n",
    "    html.Div(children=[\n",
    "        html.H3('Accuracy'),\n",
    "        html.Div(children=[\n",
    "            html.Div('1 week:'),\n",
    "            html.Div(f'{accuracy_1w:.4f}'),\n",
    "        ]),\n",
    "        html.Div(children=[\n",
    "            html.Div('1 month:'),\n",
    "            html.Div(f'{accuracy_1m:.4f}'),\n",
    "        ]),\n",
    "        html.Div(children=[\n",
    "            html.Div('3 months:'),\n",
    "            html.Div(f'{accuracy_3m:.4f}'),\n",
    "        ]),\n",
    "    ]),\n",
    "    dcc.Graph(\n",
    "        id='accuracy-graph',\n",
    "        figure={\n",
    "            'data': [\n",
    "                {'x': ['1 week', '1 month', '3 months'], 'y': [accuracy_1w, accuracy_1m, accuracy_3m], 'type': 'bar', 'name': 'Accuracy'},\n",
    "            ],\n",
    "            'layout': {\n",
    "                'title': 'Sentiment Analysis Accuracy for Different Time Periods',\n",
    "                'yaxis': {'title': 'Accuracy'},\n",
    "            }\n",
    "        }\n",
    "    )\n",
    "])\n",
    "\n",
    "# Run the app\n",
    "if __name__ == '__main__':\n",
    "    app.run_server(debug=True, use_reloader=False)"
   ]
  },
  {
   "cell_type": "code",
   "execution_count": null,
   "id": "218667af-f105-40e8-8ba1-817fa11831af",
   "metadata": {},
   "outputs": [],
   "source": []
  }
 ],
 "metadata": {
  "kernelspec": {
   "display_name": "Python 3",
   "language": "python",
   "name": "python3"
  },
  "language_info": {
   "codemirror_mode": {
    "name": "ipython",
    "version": 3
   },
   "file_extension": ".py",
   "mimetype": "text/x-python",
   "name": "python",
   "nbconvert_exporter": "python",
   "pygments_lexer": "ipython3",
   "version": "3.8.8"
  }
 },
 "nbformat": 4,
 "nbformat_minor": 5
}
