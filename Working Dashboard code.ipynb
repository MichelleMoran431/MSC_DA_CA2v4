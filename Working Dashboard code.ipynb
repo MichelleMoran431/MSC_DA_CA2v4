{
 "cells": [
  {
   "cell_type": "code",
   "execution_count": 1,
   "id": "3cfca65a-18eb-4342-89d3-7e99cf406334",
   "metadata": {},
   "outputs": [],
   "source": [
    "import pandas as pd\n",
    "from sklearn.model_selection import train_test_split\n",
    "from sklearn.preprocessing import LabelEncoder\n",
    "from keras.preprocessing.text import Tokenizer\n",
    "from keras.utils import pad_sequences\n",
    "from keras.models import Sequential\n",
    "from keras.layers import Embedding, LSTM, Dense\n",
    "\n"
   ]
  },
  {
   "cell_type": "code",
   "execution_count": 2,
   "id": "86aa1792-f217-499f-8991-c7574bff6ffe",
   "metadata": {},
   "outputs": [
    {
     "name": "stderr",
     "output_type": "stream",
     "text": [
      "b'Skipping line 1904: expected 6 fields, saw 8\\nSkipping line 2003: expected 6 fields, saw 7\\nSkipping line 4594: expected 6 fields, saw 7\\n'\n"
     ]
    }
   ],
   "source": [
    "# Read the tweet data into a pandas DataFrame\n",
    "FoodTweets = pd.read_csv(\"C:/Users/User/Documents/GitHub/MSC_DA_CA2v4/ProcessFilteredTweets.csv\", error_bad_lines=False)\n"
   ]
  },
  {
   "cell_type": "code",
   "execution_count": 3,
   "id": "c01d45cc-d660-4c8b-be9c-32d70a41a675",
   "metadata": {},
   "outputs": [],
   "source": [
    "FoodTweets.rename(columns = {'column1':'target', 'column2':'ids',\n",
    "                              'column3':'date','column4':'flag','column5':'user','column6':'tweet'}, inplace = True)                                           "
   ]
  },
  {
   "cell_type": "code",
   "execution_count": null,
   "id": "629ba01a-82cd-4b3b-b4be-8720fa2d3dce",
   "metadata": {},
   "outputs": [],
   "source": []
  },
  {
   "cell_type": "code",
   "execution_count": 4,
   "id": "d807d6e6-1c1c-4fcc-88b8-f3bfd01597f0",
   "metadata": {},
   "outputs": [],
   "source": [
    "# Preprocessing steps: Tokenization and Label Encoding\n",
    "tokenizer = Tokenizer()\n",
    "tokenizer.fit_on_texts(FoodTweets[\"tweet\"])\n",
    "sequences = tokenizer.texts_to_sequences(FoodTweets[\"tweet\"])\n",
    "max_len = max([len(seq) for seq in sequences])\n",
    "X = pad_sequences(sequences, maxlen=max_len)\n",
    "encoder = LabelEncoder()\n",
    "y = encoder.fit_transform(FoodTweets[\"target\"])"
   ]
  },
  {
   "cell_type": "code",
   "execution_count": 5,
   "id": "8ebf753e-4445-4892-90cd-ae5f5e9de5c0",
   "metadata": {},
   "outputs": [],
   "source": [
    "# Define LSTM model architecture\n",
    "model = Sequential()\n",
    "model.add(Embedding(input_dim=len(tokenizer.word_index) + 1, output_dim=128, input_length=max_len))\n",
    "model.add(LSTM(units=128))\n",
    "model.add(Dense(units=1, activation=\"sigmoid\"))\n"
   ]
  },
  {
   "cell_type": "code",
   "execution_count": 41,
   "id": "d850f351-3894-492c-be18-f439591ed3b5",
   "metadata": {},
   "outputs": [],
   "source": [
    "# Perform sentiment analysis for different time periods\n",
    "time_periods = [(\"1_week\", 7)]\n",
    "accuracy_results = {}"
   ]
  },
  {
   "cell_type": "code",
   "execution_count": null,
   "id": "4fbe3dea-7e26-4dc2-bfb8-13332381d466",
   "metadata": {},
   "outputs": [],
   "source": [
    "# Perform sentiment analysis for different time periods\n",
    "#time_periods = [(\"1_week\", 7), (\"1_month\", 30), (\"3_months\", 90)]\n",
    "#accuracy_results = {}"
   ]
  },
  {
   "cell_type": "code",
   "execution_count": 42,
   "id": "146a7c40-cc3d-43c3-b3f3-04d7bedb34ae",
   "metadata": {},
   "outputs": [],
   "source": [
    "for period, num_days in time_periods:\n",
    "    # Split the data into training and test sets\n",
    "    train_X, test_X, train_y, test_y = train_test_split(X, y, test_size=0.2, random_state=42)\n"
   ]
  },
  {
   "cell_type": "code",
   "execution_count": 43,
   "id": "7818a4bb-5253-462b-85a1-ef243dc19043",
   "metadata": {},
   "outputs": [
    {
     "name": "stdout",
     "output_type": "stream",
     "text": [
      "Epoch 1/5\n",
      "106/106 [==============================] - 15s 112ms/step - loss: 0.0119 - accuracy: 0.9957 - val_loss: 1.9993 - val_accuracy: 0.6957\n",
      "Epoch 2/5\n",
      "106/106 [==============================] - 12s 114ms/step - loss: 0.0097 - accuracy: 0.9957 - val_loss: 1.6324 - val_accuracy: 0.6981\n",
      "Epoch 3/5\n",
      "106/106 [==============================] - 14s 134ms/step - loss: 0.0107 - accuracy: 0.9958 - val_loss: 1.5295 - val_accuracy: 0.6963\n",
      "Epoch 4/5\n",
      "106/106 [==============================] - 11s 108ms/step - loss: 0.0136 - accuracy: 0.9957 - val_loss: 1.6877 - val_accuracy: 0.6880\n",
      "Epoch 5/5\n",
      "106/106 [==============================] - 14s 133ms/step - loss: 0.0075 - accuracy: 0.9966 - val_loss: 1.7602 - val_accuracy: 0.6945\n"
     ]
    },
    {
     "data": {
      "text/plain": [
       "<keras.callbacks.History at 0x1fd11837760>"
      ]
     },
     "execution_count": 43,
     "metadata": {},
     "output_type": "execute_result"
    }
   ],
   "source": [
    "# Train the LSTM model\n",
    "model.compile(loss=\"binary_crossentropy\", optimizer=\"adam\", metrics=[\"accuracy\"])\n",
    "model.fit(train_X, train_y, epochs=5, batch_size=64, validation_data=(test_X, test_y))\n"
   ]
  },
  {
   "cell_type": "code",
   "execution_count": 44,
   "id": "37c6fbf2-064d-4af9-bab1-65fe5f3a8ece",
   "metadata": {},
   "outputs": [
    {
     "name": "stdout",
     "output_type": "stream",
     "text": [
      "53/53 [==============================] - 1s 21ms/step - loss: 1.7602 - accuracy: 0.6945\n",
      "Accuracy for 1_week= [1.7601569890975952, 0.6945433020591736]\n"
     ]
    }
   ],
   "source": [
    "# Evaluate the model\n",
    "accuracy = model.evaluate(test_X, test_y)\n",
    "accuracy_results[period]= accuracy\n",
    "print(f\"Accuracy for {period}= {accuracy}\")\n",
    "    "
   ]
  },
  {
   "cell_type": "code",
   "execution_count": 45,
   "id": "6113a978-1048-4b1a-b06b-8f2ccf5e512b",
   "metadata": {},
   "outputs": [
    {
     "name": "stdout",
     "output_type": "stream",
     "text": [
      "Accuracy for 1 week: [1.7601569890975952, 0.6945433020591736]\n"
     ]
    }
   ],
   "source": [
    "accuracy_1_week = accuracy_results[\"1_week\"]\n",
    "print (f\"Accuracy for 1 week: {accuracy_1_week}\")"
   ]
  },
  {
   "cell_type": "code",
   "execution_count": 13,
   "id": "49259205-0802-4115-a4bb-3311da19e59b",
   "metadata": {},
   "outputs": [
    {
     "name": "stdout",
     "output_type": "stream",
     "text": [
      "Accuracy for 1 week not found in results\n"
     ]
    }
   ],
   "source": [
    "if \"1_week\" in accuracy_results:\n",
    "    accuracy_1_week = accuracy_results[\"1_week\"]\n",
    "    print (f\"Accuracy for 1 week:{accuracy_1_week}\")\n",
    "else:\n",
    "    print (f\"Accuracy for 1 week not found in results\")"
   ]
  },
  {
   "cell_type": "code",
   "execution_count": null,
   "id": "291cd96a-9c7d-4246-9fcc-c4437e8d1dce",
   "metadata": {},
   "outputs": [],
   "source": [
    "#pip install dash pandas plotly"
   ]
  },
  {
   "cell_type": "code",
   "execution_count": 54,
   "id": "5f947c4f-9075-4742-8a32-15dd8ded3941",
   "metadata": {},
   "outputs": [
    {
     "name": "stderr",
     "output_type": "stream",
     "text": [
      "<ipython-input-54-d0c12bc338b9>:4: UserWarning: \n",
      "The dash_core_components package is deprecated. Please replace\n",
      "`import dash_core_components as dcc` with `from dash import dcc`\n",
      "  import dash_core_components as dcc\n",
      "<ipython-input-54-d0c12bc338b9>:5: UserWarning: \n",
      "The dash_html_components package is deprecated. Please replace\n",
      "`import dash_html_components as html` with `from dash import html`\n",
      "  import dash_html_components as html\n"
     ]
    }
   ],
   "source": [
    "import pandas as pd\n",
    "import plotly.express as px\n",
    "import dash\n",
    "import dash_core_components as dcc\n",
    "import dash_html_components as html\n",
    "from dash.dependencies import Input,Output"
   ]
  },
  {
   "cell_type": "code",
   "execution_count": 55,
   "id": "b91d5d70-20d5-47d1-92c9-39d1266f8208",
   "metadata": {},
   "outputs": [
    {
     "ename": "SyntaxError",
     "evalue": "invalid character in identifier (<ipython-input-55-b603710207d7>, line 9)",
     "output_type": "error",
     "traceback": [
      "\u001b[1;36m  File \u001b[1;32m\"<ipython-input-55-b603710207d7>\"\u001b[1;36m, line \u001b[1;32m9\u001b[0m\n\u001b[1;33m    \"3_months\": 0.68\u001b[0m\n\u001b[1;37m                ^\u001b[0m\n\u001b[1;31mSyntaxError\u001b[0m\u001b[1;31m:\u001b[0m invalid character in identifier\n"
     ]
    }
   ],
   "source": [
    "df = pd.read_csv(\"/path/to/your/tweet_data.csv\")\n",
    "# Perform preprocessing steps\n",
    "# ...\n",
    "\n",
    "# Perform sentiment analysis and obtain accuracy values for different time periods\n",
    "accuracy_results = {\n",
    "    \"1_week\": 0.82,\n",
    "    \"1_month\": 0.75,\n",
    "    \"3_months\": 0.68\n",
    "}"
   ]
  },
  {
   "cell_type": "code",
   "execution_count": null,
   "id": "9700d257-ed8d-45b5-b87d-23c89f315fde",
   "metadata": {},
   "outputs": [
    {
     "name": "stdout",
     "output_type": "stream",
     "text": [
      "Dash is running on http://127.0.0.1:8050/\n",
      "\n",
      " * Serving Flask app \"__main__\" (lazy loading)\n",
      " * Environment: production\n",
      "   WARNING: This is a development server. Do not use it in a production deployment.\n",
      "   Use a production WSGI server instead.\n",
      " * Debug mode: on\n"
     ]
    }
   ],
   "source": [
    "app = dash.Dash(__name__)\n",
    "\n",
    "app.layout = html.Div(children=[\n",
    "    html.H1(children='Sentiment Analysis Dashboard'),\n",
    "    html.Div(children='Accuracy of Sentiment Analysis for Different Time Periods'),\n",
    "\n",
    "    dcc.Graph(\n",
    "        id='accuracy-graph',\n",
    "        figure={\n",
    "            'data': [\n",
    "                {'x': list(accuracy_results.keys()), 'y': list(accuracy_results.values()), 'type': 'bar', 'name': 'Accuracy'}\n",
    "            ],\n",
    "            'layout': {\n",
    "                'title': 'Sentiment Analysis Accuracy',\n",
    "                'yaxis': {'title': 'Accuracy'},\n",
    "                'xaxis': {'title': 'Time Periods'}\n",
    "            }\n",
    "        }\n",
    "    )\n",
    "])\n",
    "\n",
    "if __name__ == '__main__':\n",
    "     app.run_server(debug=True, use_reloader=False)"
   ]
  },
  {
   "cell_type": "code",
   "execution_count": null,
   "id": "f0eb5a35-a8cf-4753-b43e-4bb4ca8d25dd",
   "metadata": {},
   "outputs": [],
   "source": [
    "python your_script_name.py "
   ]
  }
 ],
 "metadata": {
  "kernelspec": {
   "display_name": "Python 3",
   "language": "python",
   "name": "python3"
  },
  "language_info": {
   "codemirror_mode": {
    "name": "ipython",
    "version": 3
   },
   "file_extension": ".py",
   "mimetype": "text/x-python",
   "name": "python",
   "nbconvert_exporter": "python",
   "pygments_lexer": "ipython3",
   "version": "3.8.8"
  }
 },
 "nbformat": 4,
 "nbformat_minor": 5
}
